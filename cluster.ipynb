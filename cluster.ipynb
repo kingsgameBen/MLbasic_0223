{
  "nbformat": 4,
  "nbformat_minor": 0,
  "metadata": {
    "colab": {
      "name": "cluster.ipynb",
      "provenance": [],
      "collapsed_sections": [],
      "authorship_tag": "ABX9TyPHlQ+smWaDs2qzrPtu/5Cd",
      "include_colab_link": true
    },
    "kernelspec": {
      "name": "python3",
      "display_name": "Python 3"
    }
  },
  "cells": [
    {
      "cell_type": "markdown",
      "metadata": {
        "id": "view-in-github",
        "colab_type": "text"
      },
      "source": [
        "<a href=\"https://colab.research.google.com/github/kingsgameBen/MLbasic_0223/blob/main/cluster.ipynb\" target=\"_parent\"><img src=\"https://colab.research.google.com/assets/colab-badge.svg\" alt=\"Open In Colab\"/></a>"
      ]
    },
    {
      "cell_type": "markdown",
      "metadata": {
        "id": "oLdaVK3Lzz2O"
      },
      "source": [
        "\n",
        "input -> 模型 -> output\n",
        "深度學習 範例 ： edge cat (圖像翻譯)[https://affinelayer.com/pixsrv/]\n",
        "-------------------------------------------\n",
        "input    |  output\n",
        "-------------------------------------------\n",
        "         |  cluster(分群 問題)\n",
        "            :辨認梵谷莫內達文西的作品?沒有output的選擇題：利用「題目的相似度」猜答案\n",
        "----------------------------------------\n",
        "刪除ans欄位 -> 沒有答案欄位\n",
        "\n",
        "最簡單的分群方法\n",
        "KMeans (K個中心)\n",
        "1. 隨便取3個中心 (隨機選取三個樣本)\n",
        "2. 計算距離->歐幾里得距離$\\sqrt{\\left( Sl_1 - Sl_2 \\right)^2 + \\left( Sw_1 - Sw_2 \\right)^2+\\left( Pl_1 - Pl_2 \\right)^2 + \\left( Pw_1 - Pw_2 \\right)^2}$\n",
        "3. 每個點標注(固定圓心找標註)\n",
        "   if 真的中心：min   $\\sum\\left( 平均 - P_i \\right)^2$\n",
        "4. 重選圓心(固定標註找圓心, 直到圓心不再變動為止)\n",
        "  步驟3、4不斷迭代, 直到標註與圓心都穩定！\n",
        "\n",
        "[https://scikit-learn.org/stable/modules/generated/sklearn.cluster.KMeans.html]\n",
        "*若一開始選的點都相同或太近, 只能分成一群 -> K-means++改善此問題, 一開始取樣遠一點\n",
        "- tol: tolerance 容許圓心兩次的微幅變動容忍值(收斂範圍)\n",
        "\n"
      ]
    },
    {
      "cell_type": "code",
      "metadata": {
        "id": "hb2HF-7T12HX"
      },
      "source": [
        "import pandas as pd\n",
        "from sklearn.datasets import load_iris\n",
        "# 分辨鳶尾花\n",
        "iris = load_iris() # 3 type iris\n",
        "df = pd.DataFrame(iris['data']\n",
        "                  ,columns = iris['feature_names'])\n",
        "print(iris['feature_names'])\n",
        "print(iris)\n",
        "df"
      ],
      "execution_count": null,
      "outputs": []
    },
    {
      "cell_type": "code",
      "metadata": {
        "colab": {
          "base_uri": "https://localhost:8080/"
        },
        "id": "ZbEXGAi60u1V",
        "outputId": "146424e3-94ca-4c92-d6fe-ae02bc2eac86"
      },
      "source": [
        "from sklearn.cluster import KMeans\n",
        "cluster = KMeans(n_clusters=3)\n",
        "cluster.fit(iris[\"data\"])"
      ],
      "execution_count": 18,
      "outputs": [
        {
          "output_type": "execute_result",
          "data": {
            "text/plain": [
              "KMeans(algorithm='auto', copy_x=True, init='k-means++', max_iter=300,\n",
              "       n_clusters=3, n_init=10, n_jobs=None, precompute_distances='auto',\n",
              "       random_state=None, tol=0.0001, verbose=0)"
            ]
          },
          "metadata": {
            "tags": []
          },
          "execution_count": 18
        }
      ]
    },
    {
      "cell_type": "code",
      "metadata": {
        "id": "P92ZnCs71NuL"
      },
      "source": [
        "cluster.labels_"
      ],
      "execution_count": null,
      "outputs": []
    },
    {
      "cell_type": "code",
      "metadata": {
        "colab": {
          "base_uri": "https://localhost:8080/",
          "height": 419
        },
        "id": "mps65LfrNJpx",
        "outputId": "46b85ab3-5deb-4b10-c27c-ddda7ec6bc1d"
      },
      "source": [
        "# 將分群的結果儲存到DataFrame的新欄位\n",
        "df[\"label\"] = cluster.labels_\n",
        "df"
      ],
      "execution_count": 34,
      "outputs": [
        {
          "output_type": "execute_result",
          "data": {
            "text/html": [
              "<div>\n",
              "<style scoped>\n",
              "    .dataframe tbody tr th:only-of-type {\n",
              "        vertical-align: middle;\n",
              "    }\n",
              "\n",
              "    .dataframe tbody tr th {\n",
              "        vertical-align: top;\n",
              "    }\n",
              "\n",
              "    .dataframe thead th {\n",
              "        text-align: right;\n",
              "    }\n",
              "</style>\n",
              "<table border=\"1\" class=\"dataframe\">\n",
              "  <thead>\n",
              "    <tr style=\"text-align: right;\">\n",
              "      <th></th>\n",
              "      <th>sepal length (cm)</th>\n",
              "      <th>sepal width (cm)</th>\n",
              "      <th>petal length (cm)</th>\n",
              "      <th>petal width (cm)</th>\n",
              "      <th>label</th>\n",
              "    </tr>\n",
              "  </thead>\n",
              "  <tbody>\n",
              "    <tr>\n",
              "      <th>0</th>\n",
              "      <td>5.1</td>\n",
              "      <td>3.5</td>\n",
              "      <td>1.4</td>\n",
              "      <td>0.2</td>\n",
              "      <td>0</td>\n",
              "    </tr>\n",
              "    <tr>\n",
              "      <th>1</th>\n",
              "      <td>4.9</td>\n",
              "      <td>3.0</td>\n",
              "      <td>1.4</td>\n",
              "      <td>0.2</td>\n",
              "      <td>0</td>\n",
              "    </tr>\n",
              "    <tr>\n",
              "      <th>2</th>\n",
              "      <td>4.7</td>\n",
              "      <td>3.2</td>\n",
              "      <td>1.3</td>\n",
              "      <td>0.2</td>\n",
              "      <td>0</td>\n",
              "    </tr>\n",
              "    <tr>\n",
              "      <th>3</th>\n",
              "      <td>4.6</td>\n",
              "      <td>3.1</td>\n",
              "      <td>1.5</td>\n",
              "      <td>0.2</td>\n",
              "      <td>0</td>\n",
              "    </tr>\n",
              "    <tr>\n",
              "      <th>4</th>\n",
              "      <td>5.0</td>\n",
              "      <td>3.6</td>\n",
              "      <td>1.4</td>\n",
              "      <td>0.2</td>\n",
              "      <td>0</td>\n",
              "    </tr>\n",
              "    <tr>\n",
              "      <th>...</th>\n",
              "      <td>...</td>\n",
              "      <td>...</td>\n",
              "      <td>...</td>\n",
              "      <td>...</td>\n",
              "      <td>...</td>\n",
              "    </tr>\n",
              "    <tr>\n",
              "      <th>145</th>\n",
              "      <td>6.7</td>\n",
              "      <td>3.0</td>\n",
              "      <td>5.2</td>\n",
              "      <td>2.3</td>\n",
              "      <td>2</td>\n",
              "    </tr>\n",
              "    <tr>\n",
              "      <th>146</th>\n",
              "      <td>6.3</td>\n",
              "      <td>2.5</td>\n",
              "      <td>5.0</td>\n",
              "      <td>1.9</td>\n",
              "      <td>1</td>\n",
              "    </tr>\n",
              "    <tr>\n",
              "      <th>147</th>\n",
              "      <td>6.5</td>\n",
              "      <td>3.0</td>\n",
              "      <td>5.2</td>\n",
              "      <td>2.0</td>\n",
              "      <td>2</td>\n",
              "    </tr>\n",
              "    <tr>\n",
              "      <th>148</th>\n",
              "      <td>6.2</td>\n",
              "      <td>3.4</td>\n",
              "      <td>5.4</td>\n",
              "      <td>2.3</td>\n",
              "      <td>2</td>\n",
              "    </tr>\n",
              "    <tr>\n",
              "      <th>149</th>\n",
              "      <td>5.9</td>\n",
              "      <td>3.0</td>\n",
              "      <td>5.1</td>\n",
              "      <td>1.8</td>\n",
              "      <td>1</td>\n",
              "    </tr>\n",
              "  </tbody>\n",
              "</table>\n",
              "<p>150 rows × 5 columns</p>\n",
              "</div>"
            ],
            "text/plain": [
              "     sepal length (cm)  sepal width (cm)  ...  petal width (cm)  label\n",
              "0                  5.1               3.5  ...               0.2      0\n",
              "1                  4.9               3.0  ...               0.2      0\n",
              "2                  4.7               3.2  ...               0.2      0\n",
              "3                  4.6               3.1  ...               0.2      0\n",
              "4                  5.0               3.6  ...               0.2      0\n",
              "..                 ...               ...  ...               ...    ...\n",
              "145                6.7               3.0  ...               2.3      2\n",
              "146                6.3               2.5  ...               1.9      1\n",
              "147                6.5               3.0  ...               2.0      2\n",
              "148                6.2               3.4  ...               2.3      2\n",
              "149                5.9               3.0  ...               1.8      1\n",
              "\n",
              "[150 rows x 5 columns]"
            ]
          },
          "metadata": {
            "tags": []
          },
          "execution_count": 34
        }
      ]
    },
    {
      "cell_type": "code",
      "metadata": {
        "colab": {
          "base_uri": "https://localhost:8080/"
        },
        "id": "hB0M4j7m1puF",
        "outputId": "7fd2ae2d-9e22-4227-d11c-d18d540c011f"
      },
      "source": [
        "# 會找出3群圓心(已知有3群的情況下), 算平均\n",
        "# 實際不存在這朵花, sepal length, sepal width, petal length, petal width\n",
        "# 但是Kmeans會找真正的圓心\n",
        "cluster.cluster_centers_"
      ],
      "execution_count": 20,
      "outputs": [
        {
          "output_type": "execute_result",
          "data": {
            "text/plain": [
              "array([[5.006     , 3.428     , 1.462     , 0.246     ],\n",
              "       [5.9016129 , 2.7483871 , 4.39354839, 1.43387097],\n",
              "       [6.85      , 3.07368421, 5.74210526, 2.07105263]])"
            ]
          },
          "metadata": {
            "tags": []
          },
          "execution_count": 20
        }
      ]
    },
    {
      "cell_type": "markdown",
      "metadata": {
        "id": "KlCblzGT4JFN"
      },
      "source": [
        "matplotlib 資料視覺化\n",
        "進階函式庫-> (seaborn)[https://seaborn.pydata.org/]\n",
        "[https://seaborn.pydata.org/generated/seaborn.scatterplot.html#seaborn.scatterplot]\n",
        "- hue: +1 (利用其他方式額外增加一組資訊)\n"
      ]
    },
    {
      "cell_type": "code",
      "metadata": {
        "id": "UbjOvX5A49cs"
      },
      "source": [
        "import matplotlib.pyplot as plt\n",
        "import seaborn as sns\n",
        "# hue色調:拿取DataFrame的一行[分群後的labels_]為答案 或是 原始資料的答案iris['target'],\n",
        "# 用該欄位加上顏色判別, 作為額外資訊\n",
        "# hue = cluster.labels_ 分群結果的答案\n",
        "# hue=iris[\"target\"]    原始資料的答案\n",
        "sns.scatterplot(df[\"sepal length (cm)\"],\n",
        "                df[\"petal length (cm)\"],\n",
        "                # hue = df[\"label\"])\n",
        "                hue=iris[\"target\"])\n"
      ],
      "execution_count": null,
      "outputs": []
    },
    {
      "cell_type": "markdown",
      "metadata": {
        "id": "isObB0iU-_c7"
      },
      "source": [
        "若不知道有幾群? 分群的標準\n",
        "iris資料有四個欄位(4個維度),所以要降維簡化成 2維\n",
        "選擇以sepal length 、petal length 作為x axis、y axis\n",
        "- 衡量親疏程度\n",
        "\n",
        "朋友圈Ａ<----$\\ast 人^{(分到Ａ)}$------------------->朋友圈B\n",
        "- (假設親密程度 0~10) -->判斷此人有沒有分到對的群\n",
        "- 1.  10_________________________0__ =>信心程度100%\n",
        "- 2.  5_________________________5__  =>信心程度50%\n",
        "- 3.  0_________________________10__ =>信心程度0%\n",
        "- 4.  6_________________________4__   =>信心程度60%\n",
        "\n",
        "對於一點$P_i$的親密度\n",
        "\n",
        "親密度: (越小越好 -> 越近越好)\n",
        "- 所在群內各個隨機點到 所在群 內其他點的距離的平均的加總\n",
        "$$\n",
        "\\overbrace{\\sum_{i=1}^m \\frac{1}{n} \\underbrace{\\sum_{j=1}^n(P_i - 所在圈_j)^2}_{某一點}}^{圈內全部點} => a\n",
        "$$\n",
        "疏遠度: (越大越好 -> 距離越遠越好)\n",
        "- 所在群內各個隨機點到 最相近的群內 其他點的距離的平均的加總\n",
        "$$\n",
        "\\sum_{i=1}^m \\frac{1}{n} \\sum_{j=1}^n(P_i - 最近圈_j)^2 => b \n",
        "$$\n",
        "\n",
        "對照TF-IDF方法 推導 ==>親疏程度\n",
        "\n",
        "$$\n",
        "a \\times \\frac{1}{b}\n",
        "$$\n",
        "$$\n",
        "\\begin{cases}\n",
        "0: a \\rightarrow 0 親密程度高,\n",
        "   b \\rightarrow \\infty 疏遠程度高 \\\\\n",
        "1: a = b \\Rightarrow P_i 朋友＝陌生人(距離一樣) \\Rightarrow 瞎猜\n",
        "\\end{cases}\n",
        "$$\n",
        "$$0 \\leq \\frac{a}{b} \\leq 1$$\n",
        "$$        好--->瞎$$\n",
        "$$\\color{lime}{\\fbox{$0 \\leq 1 - \\frac{a}{b} \\leq 1$}}$$ \n",
        "$$        瞎--->好$$\n",
        "$$       \\color{lime}{silhouette \\ score}$$\n"
      ]
    },
    {
      "cell_type": "code",
      "metadata": {
        "colab": {
          "base_uri": "https://localhost:8080/"
        },
        "id": "iOzhNapQLXXm",
        "outputId": "b2604d72-97d6-4006-e4fb-36771655d08f"
      },
      "source": [
        "from sklearn.metrics import silhouette_score\n",
        "for k in range(2, 10):\n",
        "  test = KMeans(n_clusters=k)\n",
        "  test.fit(iris[\"data\"])\n",
        "  print(\"k:\", k)\n",
        "  # 數學:追求唯一解  統計:給出一些參考的答案\n",
        "  # 給一個參考的親密程度\n",
        "  score = silhouette_score(iris[\"data\"], test.labels_)\n",
        "  print(\"score\", score)\n",
        "  # 0.5以上是不錯的親疏程度\n",
        "  # 此例, 分 2群＝0.68 或 3群=0.55 都可以"
      ],
      "execution_count": 33,
      "outputs": [
        {
          "output_type": "stream",
          "text": [
            "k: 2\n",
            "score 0.681046169211746\n",
            "k: 3\n",
            "score 0.5528190123564091\n",
            "k: 4\n",
            "score 0.4980505049972867\n",
            "k: 5\n",
            "score 0.4887488870931048\n",
            "k: 6\n",
            "score 0.3648340039670018\n",
            "k: 7\n",
            "score 0.3452178646369988\n",
            "k: 8\n",
            "score 0.36179003359737993\n",
            "k: 9\n",
            "score 0.33549728124663686\n"
          ],
          "name": "stdout"
        }
      ]
    },
    {
      "cell_type": "markdown",
      "metadata": {
        "id": "RfCM-FOcC21P"
      },
      "source": [
        "文字分群：\n",
        "\n",
        "應用套件：wordcloud文字雲[https://github.com/amueller/word_cloud]\n",
        "\n"
      ]
    }
  ]
}