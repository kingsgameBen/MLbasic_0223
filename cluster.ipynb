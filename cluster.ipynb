{
  "nbformat": 4,
  "nbformat_minor": 0,
  "metadata": {
    "colab": {
      "name": "cluster.ipynb",
      "provenance": [],
      "collapsed_sections": [],
      "authorship_tag": "ABX9TyPpA8TXSqaElPI+DJ6pPPnG",
      "include_colab_link": true
    },
    "kernelspec": {
      "name": "python3",
      "display_name": "Python 3"
    }
  },
  "cells": [
    {
      "cell_type": "markdown",
      "metadata": {
        "id": "view-in-github",
        "colab_type": "text"
      },
      "source": [
        "<a href=\"https://colab.research.google.com/github/kingsgameBen/MLbasic_0223/blob/main/cluster.ipynb\" target=\"_parent\"><img src=\"https://colab.research.google.com/assets/colab-badge.svg\" alt=\"Open In Colab\"/></a>"
      ]
    },
    {
      "cell_type": "markdown",
      "metadata": {
        "id": "oLdaVK3Lzz2O"
      },
      "source": [
        "\n",
        "input -> 模型 -> output\n",
        "深度學習 範例 ： edge cat (圖像翻譯)[https://affinelayer.com/pixsrv/]\n",
        "-------------------------------------------\n",
        "input    |  output\n",
        "-------------------------------------------\n",
        "         |  cluster(分群 問題)\n",
        "            :辨認梵谷莫內達文西的作品?沒有output的選擇題：利用「題目的相似度」猜答案\n",
        "----------------------------------------\n",
        "刪除ans欄位 -> 沒有答案欄位"
      ]
    },
    {
      "cell_type": "code",
      "metadata": {
        "id": "hb2HF-7T12HX"
      },
      "source": [
        "import pandas as pd\n",
        "from sklearn.datasets import load_iris\n",
        "# 分辨鳶尾花\n",
        "iris = load_iris() # 3 type iris\n",
        "df = pd.DataFrame(iris['data']\n",
        "                  ,columns = iris['feature_names'])\n",
        "print(iris['feature_names'])\n",
        "df"
      ],
      "execution_count": null,
      "outputs": []
    },
    {
      "cell_type": "markdown",
      "metadata": {
        "id": "iFmFrd7HwXLh"
      },
      "source": [
        ""
      ]
    }
  ]
}