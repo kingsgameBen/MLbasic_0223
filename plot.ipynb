{
  "nbformat": 4,
  "nbformat_minor": 0,
  "metadata": {
    "colab": {
      "name": "plot.ipynb",
      "private_outputs": true,
      "provenance": [],
      "collapsed_sections": [],
      "authorship_tag": "ABX9TyOqtlP2lDjt3UimHLYeMRyV",
      "include_colab_link": true
    },
    "kernelspec": {
      "name": "python3",
      "display_name": "Python 3"
    },
    "language_info": {
      "name": "python"
    }
  },
  "cells": [
    {
      "cell_type": "markdown",
      "metadata": {
        "id": "view-in-github",
        "colab_type": "text"
      },
      "source": [
        "<a href=\"https://colab.research.google.com/github/kingsgameBen/MLbasic_0223/blob/main/plot.ipynb\" target=\"_parent\"><img src=\"https://colab.research.google.com/assets/colab-badge.svg\" alt=\"Open In Colab\"/></a>"
      ]
    },
    {
      "cell_type": "markdown",
      "metadata": {
        "id": "x7ARyx21mLqg"
      },
      "source": [
        "# matplotlib 參數使用方式\n",
        "https://matplotlib.org/stable/api/_as_gen/matplotlib.pyplot.plot.html"
      ]
    },
    {
      "cell_type": "code",
      "metadata": {
        "id": "wUWZNPVPjuDJ"
      },
      "source": [
        "import matplotlib.pyplot as plt\n",
        "import seaborn as sns\n",
        "from sklearn.datasets import load_iris\n",
        "import numpy as np\n",
        "# plt.plot([0.1, 0.5, 0.3], [2, 5, 10])\n",
        "iris = load_iris()\n",
        "sl = iris[\"data\"][:, 0]\n",
        "pl = iris[\"data\"][:, 2]\n",
        "sns.scatterplot(sl, pl, hue=iris[\"target\"])\n",
        "xs = np.array([i for i in range(10)])\n",
        "ys = xs\n",
        "plt.plot(xs, ys, \"-.c\")"
      ],
      "execution_count": null,
      "outputs": []
    }
  ]
}