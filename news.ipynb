{
  "nbformat": 4,
  "nbformat_minor": 0,
  "metadata": {
    "colab": {
      "name": "news.ipynb",
      "private_outputs": true,
      "provenance": [],
      "collapsed_sections": [],
      "mount_file_id": "1M_7Nu_cKmN-wTDWzD41e4tpLlLA6IGyI",
      "authorship_tag": "ABX9TyOXQ6Q4dYwjYTXVIWPccR3K",
      "include_colab_link": true
    },
    "kernelspec": {
      "name": "python3",
      "display_name": "Python 3"
    }
  },
  "cells": [
    {
      "cell_type": "markdown",
      "metadata": {
        "id": "view-in-github",
        "colab_type": "text"
      },
      "source": [
        "<a href=\"https://colab.research.google.com/github/kingsgameBen/MLbasic_0223/blob/main/news.ipynb\" target=\"_parent\"><img src=\"https://colab.research.google.com/assets/colab-badge.svg\" alt=\"Open In Colab\"/></a>"
      ]
    },
    {
      "cell_type": "markdown",
      "metadata": {
        "id": "siEoxuo92YoO"
      },
      "source": [
        "News 新聞分類分析 \n",
        "\n",
        "檔案先放入\n",
        "\n",
        "glob.py   大型檔案用的函式庫\n",
        "\n",
        "glob : 路徑的pattern\n",
        "\n",
        "*:任意"
      ]
    },
    {
      "cell_type": "code",
      "metadata": {
        "id": "-mgnU0Sn2XLp"
      },
      "source": [
        "from zipfile import ZipFile\n",
        "f = ZipFile(\"/content/drive/MyDrive/2021_Python班/chinese_news_trans.zip\")\n",
        "f.extractall()\n",
        "f = ZipFile(\"/content/drive/MyDrive/2021_Python班/chinese_news_test.zip\")\n",
        "f.extractall()"
      ],
      "execution_count": null,
      "outputs": []
    },
    {
      "cell_type": "code",
      "metadata": {
        "id": "v_etbj_P3_YI"
      },
      "source": [
        "import os\n",
        "import glob\n",
        "import pandas as pd\n",
        "def process(base):\n",
        "  datas = {\"content\":[],\n",
        "          \"ans\":[]\n",
        "  }\n",
        "  # print(os.path.join(base, \"*\"))\n",
        "  dirs = glob.glob(os.path.join(base, \"*\"))\n",
        "  # print(dirs)\n",
        "  for d in dirs:\n",
        "    # print(d)\n",
        "    fns1 = os.path.join(d, '*.txt')\n",
        "    fns2 = os.path.join(d, '*.TXT')\n",
        "    fns = glob.glob(fns1) + glob.glob(fns2)\n",
        "    for fn in fns:\n",
        "      with open(fn, \"r\", encoding=\"utf-8\")as f:\n",
        "        datas[\"content\"].append(f.read())\n",
        "      datas[\"ans\"].append(os.path.split(d)[-1])\n",
        "    df = pd.DataFrame(datas)\n",
        "  return df\n",
        "train_df = process(\"chinese_news_trans\")\n",
        "test_df = process(\"chinese_news_test\")\n",
        "train_df"
      ],
      "execution_count": null,
      "outputs": []
    },
    {
      "cell_type": "markdown",
      "metadata": {
        "id": "NaFaYINh7woY"
      },
      "source": [
        "1. 正確率\n",
        "2. 混淆矩陣\n",
        "3. 輸入input\n"
      ]
    },
    {
      "cell_type": "code",
      "metadata": {
        "id": "PzojSs4f9E94"
      },
      "source": [
        "u = train_df[\"ans\"].unique()\n",
        "name2cat = {name:i for i, name in enumerate(u)}\n",
        "y_train = train_df[\"ans\"].replace(name2cat)\n",
        "y_test = test_df[\"ans\"].replace(name2cat)\n",
        "y_train"
      ],
      "execution_count": null,
      "outputs": []
    },
    {
      "cell_type": "code",
      "metadata": {
        "id": "6QrlELPGG2LC"
      },
      "source": [
        "# 務必記得載入大字典\n",
        "from urllib.request import urlretrieve\n",
        "url = \"https://github.com/fxsjy/jieba/raw/master/extra_dict/dict.txt.big\"\n",
        "urlretrieve(url, \"dict.txt.big\")"
      ],
      "execution_count": null,
      "outputs": []
    },
    {
      "cell_type": "code",
      "metadata": {
        "id": "itF24vrh5xmT"
      },
      "source": [
        "import jieba\n",
        "jieba.set_dictionary(\"dict.txt.big\")\n",
        "def newscut(p):\n",
        "  return \" \".join(jieba.cut(p))\n",
        "x_train = train_df[\"content\"].apply(newscut)\n",
        "x_test = test_df[\"content\"].apply(newscut)\n",
        "# x_test"
      ],
      "execution_count": null,
      "outputs": []
    },
    {
      "cell_type": "code",
      "metadata": {
        "id": "4g4bnJz68uPw"
      },
      "source": [
        "from sklearn.feature_extraction.text import CountVectorizer\n",
        "vec = CountVectorizer()\n",
        "x_train_count = vec.fit_transform(x_train)\n",
        "x_test_count = vec.transform(x_test)\n",
        "print(x_train_count)"
      ],
      "execution_count": null,
      "outputs": []
    },
    {
      "cell_type": "code",
      "metadata": {
        "id": "RSsNvD7Q-P-w"
      },
      "source": [
        "vec.vocabulary_\n",
        "# vec.vocabulary_[\"，\"]  # 檢查沒有標點符號\n",
        "x_train_count"
      ],
      "execution_count": null,
      "outputs": []
    },
    {
      "cell_type": "code",
      "metadata": {
        "id": "W8nHsTVv-Xtc"
      },
      "source": [
        "from sklearn.naive_bayes import MultinomialNB\n",
        "clf = MultinomialNB(alpha=0.1)\n",
        "clf.fit(x_train_count, y_train)"
      ],
      "execution_count": null,
      "outputs": []
    },
    {
      "cell_type": "markdown",
      "metadata": {
        "id": "dmf56VbWH8Rh"
      },
      "source": [
        "accuracy_score =>0.6 0.9都是對,難以比較\n",
        "\n",
        "=> 找差值\n",
        "\n",
        "正確 \n",
        "100% cat - 50%  0  \\\n",
        "0%   dog - 50%  100 \\\n",
        "$$\n",
        "(求差值)損失找min \\\\\n",
        "Loss \\rightarrow (0.5-1)^2 + (0.5-0)^2\n",
        "$$\n",
        "\\\n",
        "均方誤差(Mean square error，MSE) \\\n",
        "平均絕對值誤差(Mean absolute error，MAE)\\\n",
        "[ https://chih-sheng-huang821.medium.com/%E6%A9%9F%E5%99%A8-%E6%B7%B1%E5%BA%A6%E5%AD%B8%E7%BF%92-%E5%9F%BA%E7%A4%8E%E4%BB%8B%E7%B4%B9-%E6%90%8D%E5%A4%B1%E5%87%BD%E6%95%B8-loss-function-2dcac5ebb6cb ]"
      ]
    },
    {
      "cell_type": "code",
      "metadata": {
        "id": "HuZHvN8t-i1W"
      },
      "source": [
        "from sklearn.metrics import accuracy_score, log_loss\n",
        "pre = clf.predict(x_test_count)\n",
        "print(accuracy_score(pre, y_test))\n",
        "prob = clf.predict_proba(x_test_count)\n",
        "print(log_loss(y_test, prob))"
      ],
      "execution_count": null,
      "outputs": []
    },
    {
      "cell_type": "code",
      "metadata": {
        "id": "sykFHtCJ-nUq"
      },
      "source": [
        "from sklearn.metrics import confusion_matrix\n",
        "mat = confusion_matrix(y_test, pre)\n",
        "pd.DataFrame(mat,\n",
        "             index=[name + \"(原本)\" for name in u],\n",
        "             columns=[name + \"(預測)\" for name in u])"
      ],
      "execution_count": null,
      "outputs": []
    },
    {
      "cell_type": "code",
      "metadata": {
        "id": "YEVmtoiH-tcX"
      },
      "source": [
        "p = input(\"write:\")\n",
        "# 要注意現在只有一個字串,要轉成『一批』字串只有一個內容\n",
        "test = vec.transform([newscut(p)])\n",
        "prob = clf.predict_proba(test)\n",
        "prob_0 = prob[0] #拿整批裡面的唯一一個\n",
        "print(u)\n",
        "for i in range(len(u)):\n",
        "  print(u[i], \"的機率:\", round(prob_0[i], 3))\n"
      ],
      "execution_count": null,
      "outputs": []
    },
    {
      "cell_type": "markdown",
      "metadata": {
        "id": "2kPB888DruE0"
      },
      "source": [
        "簡體轉繁體\n",
        "\n",
        "opencc-python-reimplemented\n",
        "\n",
        "s2tw、一般用s2twp\n",
        " [ https://pypi.org/project/opencc-python-reimplemented/ ]\n",
        "\n",
        "！代表指令的意思\n",
        "!pip install xxxxxxxxx\n",
        "\n"
      ]
    },
    {
      "cell_type": "code",
      "metadata": {
        "id": "1FoxwzxGsIKW"
      },
      "source": [
        "# # 安裝簡轉繁的函式庫, 才可以import opencc\n",
        "# !pip install opencc-python-reimplemented"
      ],
      "execution_count": null,
      "outputs": []
    },
    {
      "cell_type": "code",
      "metadata": {
        "id": "y1PyLp3IsrKB"
      },
      "source": [
        "from opencc import OpenCC\n",
        "cc = OpenCC('s2twp')  # convert from Simplified Chinese to Traditional Chinese\n",
        "# can also set conversion by calling set_conversion\n",
        "# cc.set_conversion('s2tw')\n",
        "to_convert = '开放中文转换'\n",
        "converted = cc.convert(to_convert)\n",
        "converted"
      ],
      "execution_count": null,
      "outputs": []
    }
  ]
}