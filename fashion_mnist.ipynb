{
  "nbformat": 4,
  "nbformat_minor": 0,
  "metadata": {
    "colab": {
      "name": "fashion_mnist.ipynb",
      "private_outputs": true,
      "provenance": [],
      "collapsed_sections": [],
      "authorship_tag": "ABX9TyM4hdeVMNeWvtM4lOYc+eZx",
      "include_colab_link": true
    },
    "kernelspec": {
      "name": "python3",
      "display_name": "Python 3"
    },
    "language_info": {
      "name": "python"
    }
  },
  "cells": [
    {
      "cell_type": "markdown",
      "metadata": {
        "id": "view-in-github",
        "colab_type": "text"
      },
      "source": [
        "<a href=\"https://colab.research.google.com/github/kingsgameBen/MLbasic_0223/blob/main/fashion_mnist.ipynb\" target=\"_parent\"><img src=\"https://colab.research.google.com/assets/colab-badge.svg\" alt=\"Open In Colab\"/></a>"
      ]
    },
    {
      "cell_type": "markdown",
      "metadata": {
        "id": "VtbLJCQktpAf"
      },
      "source": [
        "0\tT-shirt/top 短袖上衣 \\\n",
        "1\tTrouser 褲子 \\\n",
        "2\tPullover 套頭毛衣/套衫 \\\n",
        "3\tDress 洋裝 \\\n",
        "4\tCoat 外套 \\\n",
        "5\tSandal 涼鞋 \\\n",
        "6\tShirt 襯衫 \\\n",
        "7\tSneaker 帆布鞋、運動鞋 \\\n",
        "8\tBag 包包\\\n",
        "9\tAnkle boot 短靴"
      ]
    },
    {
      "cell_type": "code",
      "metadata": {
        "id": "aTLUSpEBksNi"
      },
      "source": [
        "from tensorflow.keras.datasets.fashion_mnist import load_data\n",
        "(x_train, y_train), (x_test, y_test) = load_data()"
      ],
      "execution_count": null,
      "outputs": []
    },
    {
      "cell_type": "code",
      "metadata": {
        "id": "T9PmIavSvwr7"
      },
      "source": [
        "trans = [\n",
        "\t\"T-shirt\",\n",
        "\t\"Trouser\",\n",
        "\t\"Pullover\",\n",
        "\t\"Dress\",\n",
        "\t\"Coat\",\n",
        "\t\"Sandal\",\n",
        "\t\"Shirt\",\n",
        "\t\"Sneaker\",\n",
        "\t\"Bag\",\n",
        "\t\"Ankle boot\"\n",
        "]"
      ],
      "execution_count": null,
      "outputs": []
    },
    {
      "cell_type": "code",
      "metadata": {
        "id": "5lFa28w2lOfO"
      },
      "source": [
        "print(x_train.shape)\n",
        "print(y_train.shape)\n",
        "print(x_test.shape)\n",
        "print(y_test.shape)\n",
        "print(x_train.shape[1]*x_train.shape[2])"
      ],
      "execution_count": null,
      "outputs": []
    },
    {
      "cell_type": "code",
      "metadata": {
        "id": "XLUfi7EJlYg8"
      },
      "source": [
        "import matplotlib.pyplot as plt\n",
        "plt.imshow(x_train[215])"
      ],
      "execution_count": null,
      "outputs": []
    },
    {
      "cell_type": "code",
      "metadata": {
        "id": "t2rKi7Milhkm"
      },
      "source": [
        "import pandas as pd\n",
        "pd.DataFrame(x_train[215])"
      ],
      "execution_count": null,
      "outputs": []
    },
    {
      "cell_type": "code",
      "metadata": {
        "id": "olpouRaTlm3D"
      },
      "source": [
        "from tensorflow.keras.models import Sequential\n",
        "from tensorflow.keras.layers import Dense, Dropout\n",
        "import os\n",
        "from tensorflow.keras.losses import CategoricalCrossentropy\n",
        "if os.path.exists(\"mlp.h5\"):\n",
        "    print(\"模型存在, 直接讀取\")\n",
        "    model = load_model(\"mlp.h5\")\n",
        "else:\n",
        "    total_train_size = x_train.shape[1]*x_train.shape[2]\n",
        "    layers = [\n",
        "            # 64, 128, 256, 512..\n",
        "            #   784 * 128 + 128(bias)\n",
        "            # 測試最終採用256 => 784 * 256 + 256(bias)\n",
        "            Dense(256, activation=\"relu\", input_dim=total_train_size),\n",
        "            Dropout(0.25),\n",
        "            #   128 * 10 + 10(bias)\n",
        "            Dense(10, activation=\"softmax\")\n",
        "    ]\n",
        "    model = Sequential(layers)\n",
        "    model.compile(loss=CategoricalCrossentropy(),\n",
        "              metrics=[\"accuracy\"],\n",
        "              optimizer=\"adam\")\n",
        "model.summary()"
      ],
      "execution_count": null,
      "outputs": []
    },
    {
      "cell_type": "code",
      "metadata": {
        "id": "ag_nwMvwmMXl"
      },
      "source": [
        "from tensorflow.keras.utils import to_categorical\n",
        "y_train_cat = to_categorical(y_train, 10)\n",
        "y_test_cat = to_categorical(y_test, 10)\n",
        "print(y_train[0])\n",
        "print(y_train_cat[0])"
      ],
      "execution_count": null,
      "outputs": []
    },
    {
      "cell_type": "code",
      "metadata": {
        "id": "GpJ0eFXzmRQp"
      },
      "source": [
        "x_train_shape = x_train.reshape(-1, 784) / 255.0\n",
        "x_test_shape = x_test.reshape(-1, 784)  / 255.0"
      ],
      "execution_count": null,
      "outputs": []
    },
    {
      "cell_type": "markdown",
      "metadata": {
        "id": "1cdM5SH_bOYZ"
      },
      "source": [
        "存檔點(ModelCheckpoint)[https://keras.io/zh/callbacks/#modelcheckpoint ]"
      ]
    },
    {
      "cell_type": "code",
      "metadata": {
        "id": "exIs8Y0wmVTl"
      },
      "source": [
        "from tensorflow.keras.callbacks import EarlyStopping, ModelCheckpoint\n",
        "callbacks = [\n",
        "             EarlyStopping(patience=5, restore_best_weights=True),\n",
        "             ModelCheckpoint(\"mlp.h5\", save_best_only=True)\n",
        "]\n",
        "model.fit(x_train_shape,\n",
        "          y_train_cat,\n",
        "          batch_size=200,\n",
        "          epochs=50,\n",
        "          validation_split=0.1,\n",
        "          callbacks=callbacks,\n",
        "          verbose=2)"
      ],
      "execution_count": null,
      "outputs": []
    },
    {
      "cell_type": "code",
      "metadata": {
        "id": "48bu_FBqmg7-"
      },
      "source": [
        "model.evaluate(x_test_shape, y_test_cat)\n",
        "# hdf5 層級資料格式（Hierarchical Data Format：HDF）\n",
        "# model.save(\"mlp.h5\"), 但是要在fit階段就讀取上次儲存的模型,所以儲存寫在fit的callbacks裡:ModelCheckpoint"
      ],
      "execution_count": null,
      "outputs": []
    },
    {
      "cell_type": "code",
      "metadata": {
        "id": "R4f47--ymqjX"
      },
      "source": [
        "from sklearn.metrics import confusion_matrix\n",
        "pre = model.predict_classes(x_test_shape)\n",
        "mat = confusion_matrix(y_test, pre)\n",
        "pd.DataFrame(mat,\n",
        "             columns=[ str(i) + \"(預測)\" for i in range(10)],\n",
        "             index=[ str(i) + \"(正確)\" for i in range(10)])"
      ],
      "execution_count": null,
      "outputs": []
    },
    {
      "cell_type": "code",
      "metadata": {
        "id": "qEKwI8s5m1SH"
      },
      "source": [
        "import numpy as np\n",
        "idx = np.nonzero(pre != y_test)[0]\n",
        "print(idx)\n",
        "print(len(idx))\n",
        "# 取段操作 顯示200個就好\n",
        "idx = np.nonzero(pre != y_test)[0][:200]\n",
        "false_img = x_test[idx]\n",
        "false_pre = pre[idx]\n",
        "false_label = y_test[idx]\n",
        "plt.figure(figsize=(20, 60))\n",
        "width = 10\n",
        "height = len(idx) // width + 1\n",
        "for i in range(len(idx)):\n",
        "    plt.subplot(height, width, i+1)\n",
        "    plt.imshow(false_img[i])\n",
        "    t = \"[Ori]:{}\\n[Pre]:{}\".format(trans[false_label[i]], trans[false_pre[i]])\n",
        "    plt.title(t)\n",
        "    plt.axis(\"off\")"
      ],
      "execution_count": null,
      "outputs": []
    },
    {
      "cell_type": "code",
      "metadata": {
        "id": "3bDL6RyH0VTT"
      },
      "source": [
        "from PIL import Image\n",
        "import requests\n",
        "headers ={\n",
        "    \"user-agent\": \"Mozilla/5.0 (Macintosh; Intel Mac OS X 11_2_3) AppleWebKit/537.36 (KHTML, like Gecko) Chrome/89.0.4389.90 Safari/537.36\"\n",
        "}\n",
        "url = input(\"url: \")\n",
        "\n",
        "response = requests.get(url, headers=headers, stream=True, verify=False)\n",
        "img = Image.open(response.raw).resize((28, 28)).convert(\"L\")\n",
        "# 搜尋的圖片，多為白色底背景，故以255-背景色數值，達到數值反轉，才能跟原本訓練資料一樣的背景\n",
        "img_np = 255 - np.array(img)\n",
        "img_np_r = img_np.reshape(1, 784) / 255.0\n",
        "proba = model.predict(img_np_r)[0]\n",
        "for i in range(10):\n",
        "    print(trans[i], \"的機率:\", proba[i])\n",
        "ans = model.predict_classes(img_np_r)[0]\n",
        "print(\"答案:\", trans[ans])\n",
        "plt.imshow(img_np, \"gray\")"
      ],
      "execution_count": null,
      "outputs": []
    }
  ]
}