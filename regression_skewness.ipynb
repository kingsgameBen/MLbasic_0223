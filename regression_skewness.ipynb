{
  "nbformat": 4,
  "nbformat_minor": 0,
  "metadata": {
    "colab": {
      "name": "skewness.ipynb",
      "private_outputs": true,
      "provenance": [],
      "authorship_tag": "ABX9TyOYzZlsV9MXC75/EXT3JmVd",
      "include_colab_link": true
    },
    "kernelspec": {
      "name": "python3",
      "display_name": "Python 3"
    },
    "language_info": {
      "name": "python"
    }
  },
  "cells": [
    {
      "cell_type": "markdown",
      "metadata": {
        "id": "view-in-github",
        "colab_type": "text"
      },
      "source": [
        "<a href=\"https://colab.research.google.com/github/kingsgameBen/MLbasic_0223/blob/main/regression_skewness.ipynb\" target=\"_parent\"><img src=\"https://colab.research.google.com/assets/colab-badge.svg\" alt=\"Open In Colab\"/></a>"
      ]
    },
    {
      "cell_type": "markdown",
      "metadata": {
        "id": "XBTSJhwcW2BO"
      },
      "source": [
        "隨機森林\n",
        "\n",
        "分類：線性\n",
        "\n",
        "迴歸：？\n",
        "\n",
        "平均0 標準差1 高斯分佈的常態分佈 normallization\n",
        "[https://numpy.org/doc/stable/reference/random/generated/numpy.random.normal.html ]\n",
        "\n",
        "https://docs.scipy.org/doc/scipy/reference/generated/scipy.stats.skew.html\n"
      ]
    },
    {
      "cell_type": "code",
      "metadata": {
        "id": "-dI_rEXoVxna"
      },
      "source": [
        "import numpy as np\n",
        "import matplotlib.pyplot as plt\n",
        "import seaborn as sns\n",
        "from scipy.stats import skew, boxcox_normmax\n",
        "from scipy.special import boxcox1p, log1p\n",
        "\n",
        "# p = np.random.normal(5, 2, 10000)\n",
        "# print(len(p[p >= 1]))\n",
        "# sns.distplot(p[p >= 1])\n",
        "p = np.random.normal(10, 3, 10000)\n",
        "p = 1 + p[p >= 0]\n",
        "print(skew(p))\n",
        "sns.distplot(p)"
      ],
      "execution_count": null,
      "outputs": []
    },
    {
      "cell_type": "code",
      "metadata": {
        "id": "j-g4aq0u9b4E"
      },
      "source": [
        "p2 = p ** 3\n",
        "print(skew(p2))\n",
        "sns.distplot(p2)"
      ],
      "execution_count": null,
      "outputs": []
    },
    {
      "cell_type": "code",
      "metadata": {
        "id": "ybJrAgxz_fo1"
      },
      "source": [
        "p4 = np.power(2, p)\n",
        "print(skew(p4))\n",
        "sns.distplot(p4)"
      ],
      "execution_count": null,
      "outputs": []
    },
    {
      "cell_type": "code",
      "metadata": {
        "id": "rb5pqDQl-PKI"
      },
      "source": [
        "p = np.random.normal(10000, 5000, 50000)\n",
        "p = 1 + p[p >= 0]\n",
        "\n",
        "p3 = p ** (1 / 5)\n",
        "print(skew(p3))\n",
        "sns.distplot(p3)"
      ],
      "execution_count": null,
      "outputs": []
    },
    {
      "cell_type": "markdown",
      "metadata": {
        "id": "h4u3CRDvBvZN"
      },
      "source": [
        "boxcox1p()\n",
        "[https://docs.scipy.org/doc/scipy/reference/generated/scipy.special.boxcox1p.html ]\n",
        "\n",
        "boxcox_normmax() 窮舉，試lmbda\n",
        "[https://docs.scipy.org/doc/scipy/reference/generated/scipy.stats.boxcox_normmax.html ]"
      ]
    },
    {
      "cell_type": "code",
      "metadata": {
        "id": "9MkzNUdUBula"
      },
      "source": [
        "lamda = boxcox_normmax(1 + p2)\n",
        "print(\"lambda:\", lamda)\n",
        "trans = boxcox1p(p2, lamda)\n",
        "print(\"after boxcox:\", skew(trans))\n",
        "sns.distplot(trans)"
      ],
      "execution_count": null,
      "outputs": []
    },
    {
      "cell_type": "code",
      "metadata": {
        "id": "qVYVOx87DLHC"
      },
      "source": [
        "lamda = boxcox_normmax(1 + p4)\n",
        "print(\"lambda:\", lamda)\n",
        "trans = boxcox1p(p4, lamda)\n",
        "print(\"after boxcox:\", skew(trans))\n",
        "sns.distplot(trans)\n",
        "\n",
        "trans = log1p(p4)\n",
        "print(\"after log:\", skew(trans))\n",
        "sns.distplot(trans)"
      ],
      "execution_count": null,
      "outputs": []
    },
    {
      "cell_type": "code",
      "metadata": {
        "id": "Mro5lSMBDwkc"
      },
      "source": [
        "lamda = boxcox_normmax(1 + p3)\n",
        "print(\"lambda:\", lamda)\n",
        "trans = boxcox1p(p3, lamda)\n",
        "print(\"after boxcox:\", skew(trans))\n",
        "sns.distplot(trans)"
      ],
      "execution_count": null,
      "outputs": []
    }
  ]
}