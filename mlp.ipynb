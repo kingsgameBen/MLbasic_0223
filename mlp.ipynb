{
  "nbformat": 4,
  "nbformat_minor": 0,
  "metadata": {
    "colab": {
      "name": "mlp.ipynb",
      "private_outputs": true,
      "provenance": [],
      "collapsed_sections": [],
      "authorship_tag": "ABX9TyPGFoLEYydTlx102YFBJnUh",
      "include_colab_link": true
    },
    "kernelspec": {
      "name": "python3",
      "display_name": "Python 3"
    }
  },
  "cells": [
    {
      "cell_type": "markdown",
      "metadata": {
        "id": "view-in-github",
        "colab_type": "text"
      },
      "source": [
        "<a href=\"https://colab.research.google.com/github/kingsgameBen/MLbasic_0223/blob/main/mlp.ipynb\" target=\"_parent\"><img src=\"https://colab.research.google.com/assets/colab-badge.svg\" alt=\"Open In Colab\"/></a>"
      ]
    },
    {
      "cell_type": "markdown",
      "metadata": {
        "id": "ebHnfO3Eu6cM"
      },
      "source": [
        "# MLP Multi Layer Perceptron\n",
        "# 多層感知器"
      ]
    },
    {
      "cell_type": "markdown",
      "metadata": {
        "id": "a05G1ihysraR"
      },
      "source": [
        "### TensorFlow 2版 （把keras融合進來了）\n",
        "Tensorflow 1.x版 import keras.xx ==> 現在 import tensorflow.keras.xxx\n",
        "\n",
        "pycharm安裝tensorflow: \\\n",
        " - pycharm3.8: 直接安裝最新版, \n",
        " - pycharm3.7以前: 安裝2.0.0版\n",
        "\n",
        "[https://keras.io/zh/ ] \\\n",
        "###Keras \n",
        "神經網路API,以TensorFlow、CNTK..作為後端來運行 \\\n",
        "開發重點是支持快速的實驗。以最小的延遲把想法轉換成實驗結果\n",
        "核心數據結構是model\n",
        "\n",
        "\n",
        "numpy用於多維陣列、讀取及數學運算處理。ndarray : n維數組容器\n",
        "\n",
        "pandas 用於表格等資料預處理。Series、DataFrame\n",
        "\n",
        "sklearn則是對欄位的資料做計算分析\n",
        "\n",
        "matplotlib、seaborn資料視覺化\n",
        "\n",
        "使用tuple型態承接 mnist資料集\n"
      ]
    },
    {
      "cell_type": "code",
      "metadata": {
        "id": "FC4O37gAsmOV"
      },
      "source": [
        "# 安裝資料集 - 明斯特資料集(手寫數字)\n",
        "from tensorflow.keras.datasets.mnist import load_data\n",
        "# ((x_train, y_train), (x_test, y_test))\n",
        "# numpy array ---  m*n 的多維陣列\n",
        "(x_train, y_train), (x_test, y_test) = load_data()\n"
      ],
      "execution_count": null,
      "outputs": []
    },
    {
      "cell_type": "markdown",
      "metadata": {
        "id": "mWFiq1XAl8fE"
      },
      "source": [
        "ndarray.shape\n",
        "[https://numpy.org/doc/stable/reference/generated/numpy.ndarray.shape.html ]"
      ]
    },
    {
      "cell_type": "code",
      "metadata": {
        "id": "H4LgBM4DuDfN"
      },
      "source": [
        "# 數組陣列的維度\n",
        "print(x_train.shape)\n",
        "print(y_train.shape)\n",
        "print(x_test.shape)\n",
        "print(y_test.shape)\n",
        "#計算 輸入的訓練資料集 的維度 28px * 28px\n",
        "print(x_train.shape[1]*x_train.shape[2])"
      ],
      "execution_count": null,
      "outputs": []
    },
    {
      "cell_type": "markdown",
      "metadata": {
        "id": "puLpEx7rxBLt"
      },
      "source": [
        "(cmap參數：colormap)\\\n",
        "[https://matplotlib.org/stable/tutorials/colors/colormaps.html ]\n",
        "\n",
        "(imshow)\\\n",
        "[https://matplotlib.org/stable/api/_as_gen/matplotlib.pyplot.imshow.html ]\n"
      ]
    },
    {
      "cell_type": "code",
      "metadata": {
        "id": "QLPxZqfgu4mM"
      },
      "source": [
        "import matplotlib.pyplot as plt\n",
        "# 顯示數字圖片\n",
        "# matplotlib colormap  關鍵參數cmap\n",
        "# plt.imshow(x_train[0], cmap=\"PiYG\")   # pink~yellowgreen\n",
        "# plt.imshow(x_train[0], cmap=\"PiYG_r\") # 反向\n",
        "# plt.imshow(x_train[0], cmap=\"gray\"\n",
        "plt.imshow(x_train[0], cmap=\"bwr\")"
      ],
      "execution_count": null,
      "outputs": []
    },
    {
      "cell_type": "code",
      "metadata": {
        "id": "uj177PUDv-ms"
      },
      "source": [
        "import pandas as pd\n",
        "pd.DataFrame(x_train[15])"
      ],
      "execution_count": null,
      "outputs": []
    },
    {
      "cell_type": "markdown",
      "metadata": {
        "id": "gwhMp4Doa2uF"
      },
      "source": [
        "# Sequential 建立模型"
      ]
    },
    {
      "cell_type": "markdown",
      "metadata": {
        "id": "TDqI3Dlxoxk-"
      },
      "source": [
        "### Dense 稠密層,全連接層: 每一根神經都跟前面的輸入相連\n",
        "(layers)[ https://keras.io/zh/layers/core/ ]\n",
        "\n",
        "(Sequential)[https://keras.io/zh/models/sequential/#sequential-api ] \\\n",
        "\n",
        "( 習慣上會抓784總數除以10=>78個左右, 再以2的倍數抓78的上下範圍去try第一層要輸出多少個\\\n",
        "ex: 2, 4, 8...64, 128, 256, 512...  先猜個128個, 跑出分數後再回來調整try ) \\\n",
        "\n",
        "第1層連接層:(輸出神經元256個,激勵函數:relu,輸入神經元784個)\n",
        "\n",
        "第2層連接層:(輸出神經元10個\b, 激勵函數softmax)\n",
        "\n",
        "Sequential的 summary():顯示目前網路架構\n",
        "\n",
        "Param:參數, 每層神經元的權重個數weights"
      ]
    },
    {
      "cell_type": "code",
      "metadata": {
        "id": "w63cCJXA2pne"
      },
      "source": [
        "from tensorflow.keras.models import Sequential\n",
        "from tensorflow.keras.layers import Dense\n",
        "total_train_size = x_train.shape[1]*x_train.shape[2]\n",
        "layers = [\n",
        "        # 64, 128, 256, 512..\n",
        "        #   784 * 128 + 128(bias)\n",
        "        # 測試最終採用256 => 784 * 256 + 256(bias)\n",
        "          Dense(256, activation=\"relu\", input_dim=total_train_size),\n",
        "        #   128 * 10 + 10(bias)\n",
        "          Dense(10, activation=\"softmax\")\n",
        "]\n",
        "model = Sequential(layers)\n",
        "model.summary()\n",
        "# 調整參數\n",
        "# 128 * 10 = 1280, 1280 + 10(bias)"
      ],
      "execution_count": null,
      "outputs": []
    },
    {
      "cell_type": "markdown",
      "metadata": {
        "id": "56FLM4_BAUUO"
      },
      "source": [
        "# 2. 給出Loss"
      ]
    },
    {
      "cell_type": "markdown",
      "metadata": {
        "id": "UqrmqGHhaHC6"
      },
      "source": [
        "如果只有一個神經元時(兩個機率)：BinaryCrossEntropy \\\n",
        "多個神經元：pilog(1/qi): CategoricalCrossEntropy \\\n",
        "$$P_ilog(\\frac{1}{q_i})$$\n",
        "\n",
        "compile():用於配置訓練模型"
      ]
    },
    {
      "cell_type": "code",
      "metadata": {
        "id": "gnO2AhlwASzL"
      },
      "source": [
        "# 如果只有一個神經元時(兩個機率)：BinaryCrossEntropy\n",
        "# 多個神經元：pilog(1/qi): CategoricalCrossentropy\n",
        "from tensorflow.keras.losses import CategoricalCrossentropy\n",
        "model.compile(loss=CategoricalCrossentropy(),\n",
        "              metrics=[\"accuracy\"],\n",
        "              optimizer=\"adam\")"
      ],
      "execution_count": null,
      "outputs": []
    },
    {
      "cell_type": "markdown",
      "metadata": {
        "id": "1prfz1qKbLOo"
      },
      "source": [
        "One-Hot encoding \\\n",
        "[https://www.tensorflow.org/api_docs/python/tf/keras/utils/to_categorical ] \\\n",
        "num_classes 強迫劃分成10個欄位 \\\n",
        "\n"
      ]
    },
    {
      "cell_type": "code",
      "metadata": {
        "id": "yES-2fZObJi-"
      },
      "source": [
        "from tensorflow.keras.utils import to_categorical\n",
        "y_train_cat = to_categorical(y_train, 10)\n",
        "y_test_cat = to_categorical(y_test, 10)\n",
        "print(y_train[0])\n",
        "print(y_train_cat[0])"
      ],
      "execution_count": null,
      "outputs": []
    },
    {
      "cell_type": "markdown",
      "metadata": {
        "id": "ra7Upc8XazG8"
      },
      "source": [
        "# 訓練模型"
      ]
    },
    {
      "cell_type": "markdown",
      "metadata": {
        "id": "H59ltX_M5Sej"
      },
      "source": [
        "分佈區間很重要,希望落點在靠中間一點的區域\n",
        "\n",
        "0~1之間\n",
        "\n",
        "除以255是為了把區間縮減, 圖像辨識是因為RGB的取值範圍在0~255"
      ]
    },
    {
      "cell_type": "code",
      "metadata": {
        "id": "aHATjPh6a-7d"
      },
      "source": [
        "# reshape可以偷懶不寫其中一個參數, 設-1時, 他會自己找有多少筆  (train:60000, test:10000)\n",
        "x_train_shape = x_train.reshape(-1, 784) / 255.0\n",
        "x_test_shape = x_test.reshape(-1, 784)  / 255.0\n",
        "# print(x_train_shape[12345])\n"
      ],
      "execution_count": null,
      "outputs": []
    },
    {
      "cell_type": "markdown",
      "metadata": {
        "id": "13z4hF63-_yW"
      },
      "source": [
        "[https://keras.io/zh/callbacks/ ]\n",
        "\n",
        "EarlyStopping\n",
        "\n",
        "小批次梯度下降\\\n",
        "[https://keras-cn.readthedocs.io/en/latest/legacy/getting_started/concepts/ ]\n",
        "\n",
        "SGD參數：是基於mini-batch 的stochastic gradient descent 隨機梯度下降的縮寫\n",
        "\n",
        "patience:當訓練出的loss不再進步,我還要保持耐心等你繼續訓練幾個epochs\n",
        "\n",
        "restore_best_weights:True取每輪訓練裡成績最好的那個, Fasle則取最後一輪的訓練成績\n",
        "\n",
        "verbose: 0, 1 或 2。日志显示模式。 0 = 安静模式, 1 = 进度条, 2 = 每轮一行"
      ]
    },
    {
      "cell_type": "code",
      "metadata": {
        "id": "7HD9jkBt6rre"
      },
      "source": [
        "# validation_split 切一小段資料驗證60000*0.1=6000筆不訓練,拿來驗證訓練\n",
        "# 整份資料54000筆一次\n",
        "# 控制log紀錄顯示方式 verbose 0, 1, 2 => 2代表不要顯示進度條\n",
        "# keras.callback 回調函數  每一輪epoch就回調一次\n",
        "from tensorflow.keras.callbacks import EarlyStopping\n",
        "callbacks = [\n",
        "             EarlyStopping(patience=5, restore_best_weights=True)\n",
        "]\n",
        "model.fit(x_train_shape,\n",
        "          y_train_cat,\n",
        "          batch_size=200,\n",
        "          epochs=50,\n",
        "          validation_split=0.1,\n",
        "          callbacks=callbacks,\n",
        "          verbose=2)\n",
        "# 200筆一調, 調整270次\n",
        "# 看 val_loss  用機率來看"
      ],
      "execution_count": null,
      "outputs": []
    },
    {
      "cell_type": "code",
      "metadata": {
        "id": "cPMxisaMC3DM"
      },
      "source": [
        "# train - validate - test\n",
        "model.evaluate(x_test_shape, y_test_cat)"
      ],
      "execution_count": null,
      "outputs": []
    },
    {
      "cell_type": "code",
      "metadata": {
        "id": "xyb2igvFDyj7"
      },
      "source": [
        "from sklearn.metrics import confusion_matrix\n",
        "# sklearn:    predict_proba/ predict\n",
        "# tensorflow: predict      / predict_classes\n",
        "pre = model.predict_classes(x_test_shape)\n",
        "mat = confusion_matrix(y_test, pre)\n",
        "pd.DataFrame(mat,\n",
        "             columns=[ str(i) + \"(預測)\" for i in range(10)],\n",
        "             index=[ str(i) + \"(正確)\" for i in range(10)])"
      ],
      "execution_count": null,
      "outputs": []
    },
    {
      "cell_type": "code",
      "metadata": {
        "id": "Zc-10cZnFGeN"
      },
      "source": [
        "import numpy as np\n",
        "idx = np.nonzero(pre != y_test)[0]\n",
        "print(idx)\n",
        "print(len(idx))\n",
        "false_img = x_test[idx]\n",
        "false_pre = pre[idx]\n",
        "false_label = y_test[idx]\n",
        "# print(false_img)\n",
        "# print(false_pre)\n",
        "# print(false_label)\n",
        "# subplot(高度,寬度，ith)\n",
        "plt.figure(figsize=(14, 42))\n",
        "width = 10\n",
        "height = len(idx) // width + 1\n",
        "for i in range(len(idx)):\n",
        "    plt.subplot(height, width, i+1)\n",
        "    plt.imshow(false_img[i])\n",
        "    t = \"[Ori]:{}\\n[Pre]:{}\".format(false_label[i], false_pre[i])\n",
        "    plt.title(t)\n",
        "    plt.axis(\"off\")"
      ],
      "execution_count": null,
      "outputs": []
    },
    {
      "cell_type": "code",
      "metadata": {
        "id": "xphhXhi1Fdz-"
      },
      "source": [
        "# 先看row, 再看column\n",
        "mat_sample = [\n",
        "               [1, 0, 0],\n",
        "               [0, 2, 0],\n",
        "               [1, 0, 0],\n",
        "               [0, 3, 5]\n",
        "]\n",
        "np.nonzero(mat_sample)"
      ],
      "execution_count": null,
      "outputs": []
    },
    {
      "cell_type": "code",
      "metadata": {
        "id": "YN_wedMxJrUS"
      },
      "source": [
        "# Pillow\n",
        "from PIL import Image\n",
        "# RGB, RGBA, L(gray)\n",
        "# img = Image.open(\"test.png\").resize((28, 28)).convert(\"L\")\n",
        "# img_np = np.array(img)\n",
        "# img_np_r = img_np.reshape(1, 784)\n",
        "# proba = model.predict(img_np_r)\n",
        "# print(proba)\n",
        "# plt.imshow(img_np)\n",
        "fn = input(\"輸入檔名:\")\n",
        "img = Image.open(fn).resize((28, 28)).convert(\"L\")\n",
        "img_np = np.array(img)\n",
        "img_np_r = img_np.reshape(1, 784) / 255.0\n",
        "proba = model.predict(img_np_r)[0]\n",
        "for i in range(10):\n",
        "    print(i, \"的機率:\", proba[i])\n",
        "ans = model.predict_classes(img_np_r)[0]\n",
        "print(\"答案:\", ans)\n",
        "plt.imshow(img_np)"
      ],
      "execution_count": null,
      "outputs": []
    }
  ]
}