{
  "nbformat": 4,
  "nbformat_minor": 0,
  "metadata": {
    "colab": {
      "name": "mlp.ipynb",
      "private_outputs": true,
      "provenance": [],
      "collapsed_sections": [],
      "authorship_tag": "ABX9TyMa6HFK3TTkoZ3SPXfpfDRD",
      "include_colab_link": true
    },
    "kernelspec": {
      "name": "python3",
      "display_name": "Python 3"
    }
  },
  "cells": [
    {
      "cell_type": "markdown",
      "metadata": {
        "id": "view-in-github",
        "colab_type": "text"
      },
      "source": [
        "<a href=\"https://colab.research.google.com/github/kingsgameBen/MLbasic_0223/blob/main/mlp.ipynb\" target=\"_parent\"><img src=\"https://colab.research.google.com/assets/colab-badge.svg\" alt=\"Open In Colab\"/></a>"
      ]
    },
    {
      "cell_type": "markdown",
      "metadata": {
        "id": "a05G1ihysraR"
      },
      "source": [
        "### TensorFlow 2版 （把keras融合進來了）\n",
        "Tensorflow 1.x版 import keras.xx ==> 現在 import tensorflow.keras.xxx\n",
        "\n",
        "pycharm 3.8就安裝最新的, 3.7:安裝2.0.0版\n",
        "\n",
        "\n"
      ]
    },
    {
      "cell_type": "code",
      "metadata": {
        "id": "FC4O37gAsmOV"
      },
      "source": [
        "# 安裝資料集 - 明斯特資料集(手寫數字)\n",
        "from tensorflow.keras.datasets.mnist import load_data\n",
        "# ((x_train, y_train), (x_test, y_test))\n",
        "# numpy array ---  m*n 的多維陣列\n",
        "(x_train, y_train), (x_test, y_test) = load_data()\n"
      ],
      "execution_count": null,
      "outputs": []
    },
    {
      "cell_type": "code",
      "metadata": {
        "id": "H4LgBM4DuDfN"
      },
      "source": [
        "print(x_train.shape)\n",
        "print(y_train.shape)\n",
        "print(x_test.shape)\n",
        "print(y_test.shape)\n",
        "print(x_train.shape[1]*x_train.shape[2])"
      ],
      "execution_count": null,
      "outputs": []
    },
    {
      "cell_type": "markdown",
      "metadata": {
        "id": "puLpEx7rxBLt"
      },
      "source": [
        "(imshow)[https://matplotlib.org/stable/api/_as_gen/matplotlib.pyplot.imshow.html ]\n"
      ]
    },
    {
      "cell_type": "code",
      "metadata": {
        "id": "QLPxZqfgu4mM"
      },
      "source": [
        "import matplotlib.pyplot as plt\n",
        "# 顯示數字圖片\n",
        "# matplotlib colormap  關鍵參數cmap\n",
        "# plt.imshow(x_train[0], cmap=\"PiYG\")   # pink~yellowgreen\n",
        "# plt.imshow(x_train[0], cmap=\"PiYG_r\") # 反向\n",
        "# plt.imshow(x_train[0], cmap=\"gray\"\n",
        "plt.imshow(x_train[0], cmap=\"bwr_r\")"
      ],
      "execution_count": null,
      "outputs": []
    },
    {
      "cell_type": "code",
      "metadata": {
        "id": "uj177PUDv-ms"
      },
      "source": [
        "import pandas as pd\n",
        "pd.DataFrame(x_train[0])"
      ],
      "execution_count": null,
      "outputs": []
    },
    {
      "cell_type": "code",
      "metadata": {
        "id": "w63cCJXA2pne"
      },
      "source": [
        "from tensorflow.keras.models import Sequential\n",
        "# 稠密層,全連接層: 每一根神經都跟前面的輸入相連\n",
        "# [ https://keras.io/zh/layers/core/ ]\n",
        "from tensorflow.keras.layers import Dense\n",
        "total_train_size = x_train.shape[1]*x_train.shape[2]\n",
        "layers = [\n",
        "        #   784 * 128 + 128(bias)\n",
        "          Dense(128, activation=\"relu\", input_dim=total_train_size),\n",
        "        #   128 * 10 + 10(bias)\n",
        "          Dense(10, activation=\"softmax\")\n",
        "]\n",
        "model = Sequential(layers)\n",
        "model.summary()\n",
        "# 調整參數\n",
        "# 128 * 10 = 1280 + 10(bias)"
      ],
      "execution_count": null,
      "outputs": []
    }
  ]
}