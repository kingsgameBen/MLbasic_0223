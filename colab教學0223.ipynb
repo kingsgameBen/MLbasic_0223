{
  "nbformat": 4,
  "nbformat_minor": 0,
  "metadata": {
    "colab": {
      "name": "testcolab0223.ipynb",
      "private_outputs": true,
      "provenance": [],
      "collapsed_sections": [],
      "authorship_tag": "ABX9TyNIYSOtuvm50ZiW0CVetvZm",
      "include_colab_link": true
    },
    "kernelspec": {
      "name": "python3",
      "display_name": "Python 3"
    },
    "accelerator": "GPU"
  },
  "cells": [
    {
      "cell_type": "markdown",
      "metadata": {
        "id": "view-in-github",
        "colab_type": "text"
      },
      "source": [
        "<a href=\"https://colab.research.google.com/github/kingsgameBen/MLbasic_0223/blob/main/colab%E6%95%99%E5%AD%B80223.ipynb\" target=\"_parent\"><img src=\"https://colab.research.google.com/assets/colab-badge.svg\" alt=\"Open In Colab\"/></a>"
      ]
    },
    {
      "cell_type": "code",
      "metadata": {
        "id": "vhztoBfvuWH-"
      },
      "source": [
        "colab 會提供免費的電腦CPU、顯卡GPU(titan等級), 強大的運算能力,深度學習才會用到(TPU-Tensor PU.   GPU - 顯卡)->用GPU就好\n",
        "顯示卡(內附ram,通常是8g,無法擴充)\n",
        "執行階段 -> 變更執行階段類型 -> GPU\n",
        "工具 -> 設定 -> 編輯器 -> 顯示行數\n"
      ],
      "execution_count": null,
      "outputs": []
    }
  ]
}