{
  "nbformat": 4,
  "nbformat_minor": 0,
  "metadata": {
    "colab": {
      "name": "cnn.ipynb",
      "private_outputs": true,
      "provenance": [],
      "collapsed_sections": [],
      "authorship_tag": "ABX9TyPA0i70Gwu+prCVuUF/NFq3",
      "include_colab_link": true
    },
    "kernelspec": {
      "name": "python3",
      "display_name": "Python 3"
    },
    "language_info": {
      "name": "python"
    },
    "accelerator": "GPU"
  },
  "cells": [
    {
      "cell_type": "markdown",
      "metadata": {
        "id": "view-in-github",
        "colab_type": "text"
      },
      "source": [
        "<a href=\"https://colab.research.google.com/github/kingsgameBen/MLbasic_0223/blob/main/cnn.ipynb\" target=\"_parent\"><img src=\"https://colab.research.google.com/assets/colab-badge.svg\" alt=\"Open In Colab\"/></a>"
      ]
    },
    {
      "cell_type": "markdown",
      "metadata": {
        "id": "MmojJRnIJPbm"
      },
      "source": [
        "\b卷積網路\n",
        "\n",
        "執行階段 -> 變更執行階段類型 -> GPU 運算速度快10倍\n",
        "\n",
        "卷積層[https://keras.io/zh/layers/convolutional/ ] \\\n",
        "池化層[https://keras.io/zh/layers/pooling/ ]"
      ]
    },
    {
      "cell_type": "code",
      "metadata": {
        "id": "wNSmki46IhaM"
      },
      "source": [
        "from tensorflow.keras.datasets.cifar10 import load_data\n",
        "(x_train, y_train), (x_test, y_test) = load_data()"
      ],
      "execution_count": null,
      "outputs": []
    },
    {
      "cell_type": "markdown",
      "metadata": {
        "id": "AdpMNeAcKI28"
      },
      "source": [
        "若要把minst資料集帶進來，要從二維改成三維\n",
        "\n",
        "mnist: 60000, 28, 28 -> 60000, 28, 28, 1"
      ]
    },
    {
      "cell_type": "code",
      "metadata": {
        "id": "sY_r0_CGJ1Tv"
      },
      "source": [
        "# 彩色圖像 長, 寬, 通道數(RGB)\n",
        "print(x_train.shape)\n",
        "print(y_train.shape)\n",
        "print(x_test.shape)\n",
        "print(y_test.shape)"
      ],
      "execution_count": null,
      "outputs": []
    },
    {
      "cell_type": "code",
      "metadata": {
        "id": "gv85WlU2KZw5"
      },
      "source": [
        "print(len(y_train))\n",
        "print(y_train)"
      ],
      "execution_count": null,
      "outputs": []
    },
    {
      "cell_type": "code",
      "metadata": {
        "id": "cnw9xG9iLxzD"
      },
      "source": [
        "trans = [\n",
        "         \"airplane\",\t\t\t\t\t\t\t\t\t\t\n",
        "         \"automobile\",\t\t\t\t\t\t\t\t\t\t\n",
        "         \"bird\",\t\t\t\t\t\t\t\t\t\t\n",
        "         \"cat\",\t\t\t\t\t\t\t\t\t\t\n",
        "         \"deer\",\t\t\t\t\t\t\t\t\t\t\n",
        "         \"dog\",\t\t\t\t\t\t\t\t\t\t\n",
        "         \"frog\",\t\t\t\t\t\t\t\t\t\t\n",
        "         \"horse\",\t\t\t\t\t\t\t\t\t\t\n",
        "         \"ship\",\t\t\t\t\t\t\t\t\t\t\n",
        "         \"truck\"\n",
        "]"
      ],
      "execution_count": null,
      "outputs": []
    },
    {
      "cell_type": "code",
      "metadata": {
        "id": "3_d5UxNyMCLn"
      },
      "source": [
        "import random\n",
        "import matplotlib.pyplot as plt\n",
        "idx = random.randint(0, 49999)\n",
        "print(y_train[idx])\n",
        "print(trans[y_train[idx][0]])\n",
        "plt.imshow(x_train[idx])"
      ],
      "execution_count": null,
      "outputs": []
    },
    {
      "cell_type": "markdown",
      "metadata": {
        "id": "iU4wUHc3N6QB"
      },
      "source": [
        "Flatten 攤平成同一維度\n",
        "\n",
        "kernal_size:3 (3*3的filter) \\\n",
        "strides 步伐=1(預設值) \\\n",
        "padding: same 給邊距以維持原圖大小32x32, \\\n",
        "如果設定valid則代表不留padding,導致filter吃不到最邊緣，會讓原圖變成30x30 \\\n",
        "\n",
        "$$\n",
        "3*3*3*64 = 1728, 一個過濾器會附一個bias, 64個門檻要移回來, activation=64, 1728+64=1792\n",
        "$$\n",
        "\n",
        "          # flatten()攤平後, 長*寬*高= 欄位數(輸出空間維度)\n",
        "          # 4096*128+128= 524416\n"
      ]
    },
    {
      "cell_type": "code",
      "metadata": {
        "id": "JD5fZ7pTM9ul"
      },
      "source": [
        "from tensorflow.keras.models import Sequential\n",
        "from tensorflow.keras.layers import Conv2D, MaxPooling2D\n",
        "from tensorflow.keras.layers import Dense, Dropout, Flatten, GlobalAveragePooling2D\n",
        "layers = [\n",
        "          # 一個filter(27)*64 + 64(bias) = 1792\n",
        "          Conv2D(64, 3, padding=\"same\", activation=\"relu\", input_shape=(32, 32, 3)),\n",
        "          MaxPooling2D(),\n",
        "          # 3*3*64 * 128 + 128 = 73856\n",
        "          Conv2D(128, 3, padding=\"same\", activation=\"relu\"),\n",
        "          MaxPooling2D(),\n",
        "          # 3*3*128 * 256 + 256 = 295168\n",
        "          Conv2D(256, 3, padding=\"same\", activation=\"relu\"),\n",
        "          MaxPooling2D(),\n",
        "          # 3*3*256 * 512 + 512 = 1180160\n",
        "          Conv2D(512, 3, padding=\"same\", activation=\"relu\"),\n",
        "          MaxPooling2D(),\n",
        "          Flatten(),\n",
        "          Dense(128, activation=\"relu\"),\n",
        "          Dropout(0.25),\n",
        "          Dense(10, activation=\"softmax\")\n",
        "\n",
        "]\n",
        "model = Sequential(layers)\n",
        "model.summary()"
      ],
      "execution_count": null,
      "outputs": []
    },
    {
      "cell_type": "code",
      "metadata": {
        "id": "mwfs3GoETrp2"
      },
      "source": [
        "# one-hot encoding讓它自己搞定, 不需要自己做One-Hot\n",
        "from tensorflow.keras.losses import SparseCategoricalCrossentropy\n",
        "model.compile(loss=SparseCategoricalCrossentropy(),\n",
        "              optimizer=\"adam\",\n",
        "              metrics=[\"accuracy\"])\n"
      ],
      "execution_count": null,
      "outputs": []
    },
    {
      "cell_type": "code",
      "metadata": {
        "id": "7jg-I9ElUNtl"
      },
      "source": [
        "x_train_norm = x_train / 255\n",
        "x_test_norm = x_test / 255"
      ],
      "execution_count": null,
      "outputs": []
    },
    {
      "cell_type": "code",
      "metadata": {
        "id": "rnQ19rieUiI7"
      },
      "source": [
        "from tensorflow.keras.callbacks import EarlyStopping, ModelCheckpoint\n",
        "callbacks = [\n",
        "             EarlyStopping(patience=5, restore_best_weights=True),\n",
        "             ModelCheckpoint(\"cnn.h5\", save_best_only=True)\n",
        "]\n",
        "model.fit(x_train_norm,\n",
        "          y_train,\n",
        "          batch_size=200,\n",
        "          epochs=50,\n",
        "          validation_split=0.1,\n",
        "          callbacks=callbacks,\n",
        "          verbose=2)"
      ],
      "execution_count": null,
      "outputs": []
    },
    {
      "cell_type": "code",
      "metadata": {
        "id": "jzNyeZugVAF_"
      },
      "source": [
        "model.evaluate(x_test_norm, y_test)"
      ],
      "execution_count": null,
      "outputs": []
    },
    {
      "cell_type": "code",
      "metadata": {
        "id": "siwIeU8PwNzO"
      },
      "source": [
        "pre = model.predict_classes(x_test_norm)\n",
        "pre"
      ],
      "execution_count": null,
      "outputs": []
    },
    {
      "cell_type": "markdown",
      "metadata": {
        "id": "Z_51ECAGhIoz"
      },
      "source": [
        "ndarray.reshape() 更改陣列的尺寸\\\n",
        "設定-1, 會自動計算array內的數量 \\\n",
        "在這裡是把y_test從一維ndarray的10000筆list改成一個list有10000筆數字"
      ]
    },
    {
      "cell_type": "code",
      "metadata": {
        "id": "Fs2eSK2dxjbb"
      },
      "source": [
        "print(y_test.shape)\n",
        "print(y_test)\n",
        "print(pre.shape)\n",
        "y_test_r = y_test.reshape(-1)\n",
        "print(y_test_r)"
      ],
      "execution_count": null,
      "outputs": []
    },
    {
      "cell_type": "code",
      "metadata": {
        "id": "l5nszI-Jwzzv"
      },
      "source": [
        "from sklearn.metrics import confusion_matrix\n",
        "import pandas as pd\n",
        "\n",
        "mat = confusion_matrix(y_test_r, pre)\n",
        "pd.DataFrame(mat,\n",
        "             columns=[ trans[i] + \"(預測)\" for i in range(10)],\n",
        "             index=[ trans[i] + \"(正確)\" for i in range(10)])"
      ],
      "execution_count": null,
      "outputs": []
    },
    {
      "cell_type": "code",
      "metadata": {
        "id": "lMAEeNu0yS_l"
      },
      "source": [
        "import numpy as np\n",
        "idx = np.nonzero(pre != y_test_r)[0][300:500]\n",
        "print(np.nonzero(pre != y_test_r)[0].size)\n",
        "false_img = x_test[idx]\n",
        "false_pre = pre[idx]\n",
        "false_label = y_test_r[idx]\n",
        "plt.figure(figsize=(20, 60))\n",
        "width = 10\n",
        "height = len(idx) // width + 1\n",
        "for i in range(len(idx)):\n",
        "    plt.subplot(height, width, i+1)\n",
        "    plt.imshow(false_img[i])\n",
        "    t = \"[Ori]:{}\\n[Pre]:{}\".format(trans[false_label[i]], trans[false_pre[i]])\n",
        "    plt.title(t)\n",
        "    plt.axis(\"off\")"
      ],
      "execution_count": null,
      "outputs": []
    },
    {
      "cell_type": "code",
      "metadata": {
        "id": "FTWvacAzzD6f"
      },
      "source": [
        "from PIL import Image\n",
        "import requests\n",
        "headers ={\n",
        "    \"user-agent\": \"Mozilla/5.0 (Macintosh; Intel Mac OS X 11_2_3) AppleWebKit/537.36 (KHTML, like Gecko) Chrome/89.0.4389.90 Safari/537.36\"\n",
        "}\n",
        "url = input(\"url: \")\n",
        "response = requests.get(url, headers=headers, stream=True, verify=False)\n",
        "img = Image.open(response.raw).resize((32, 32)).convert(\"L\").convert(\"RGB\")\n",
        "img_np = np.array(img)\n",
        "img_np_r = img_np.reshape(1, 32, 32, 3) / 255.0\n",
        "proba = model.predict(img_np_r)[0]\n",
        "for i in range(10):\n",
        "    print(trans[i], \"的機率:\", proba[i])\n",
        "ans = model.predict_classes(img_np_r)[0]\n",
        "print(\"答案:\", trans[ans])\n",
        "plt.imshow(img_np)"
      ],
      "execution_count": null,
      "outputs": []
    }
  ]
}