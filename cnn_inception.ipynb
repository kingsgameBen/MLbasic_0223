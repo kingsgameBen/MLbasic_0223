{
  "nbformat": 4,
  "nbformat_minor": 0,
  "metadata": {
    "colab": {
      "name": "cnn_inception.ipynb",
      "private_outputs": true,
      "provenance": [],
      "authorship_tag": "ABX9TyPE5MyFx5ULRrkMECMke0Zk",
      "include_colab_link": true
    },
    "kernelspec": {
      "name": "python3",
      "display_name": "Python 3"
    },
    "language_info": {
      "name": "python"
    }
  },
  "cells": [
    {
      "cell_type": "markdown",
      "metadata": {
        "id": "view-in-github",
        "colab_type": "text"
      },
      "source": [
        "<a href=\"https://colab.research.google.com/github/kingsgameBen/MLbasic_0223/blob/main/cnn_inception.ipynb\" target=\"_parent\"><img src=\"https://colab.research.google.com/assets/colab-badge.svg\" alt=\"Open In Colab\"/></a>"
      ]
    },
    {
      "cell_type": "code",
      "metadata": {
        "id": "GNVZDNvcFTgz"
      },
      "source": [
        "from tensorflow.keras.applications.inception_v3 import InceptionV3\n",
        "cnn = InceptionV3(include_top=False, input_shape=(224, 224, 3))\n",
        "cnn.summary()\n",
        "print(len(cnn.layers))"
      ],
      "execution_count": null,
      "outputs": []
    },
    {
      "cell_type": "code",
      "metadata": {
        "id": "JQB_2bi0JwtK"
      },
      "source": [
        "from tensorflow.keras.utils import plot_model\n",
        "plot_model(cnn, to_file=\"inception.png\", show_shapes=True)"
      ],
      "execution_count": null,
      "outputs": []
    },
    {
      "cell_type": "markdown",
      "metadata": {
        "id": "zDKfFlIzYKfH"
      },
      "source": [
        "# 觀察InceptionV3分成哪4種CNN做特徵萃取"
      ]
    },
    {
      "cell_type": "code",
      "metadata": {
        "id": "6X5VLSNkRSYy"
      },
      "source": [
        "# 1*1卷積, (1 * 1 不做空間卷積,只組合通道) 一種通道的再組合\n",
        "w = cnn.get_layer(\"conv2d_193\").get_weights()\n",
        "print(len(w))\n",
        "print(w[0].shape)"
      ],
      "execution_count": null,
      "outputs": []
    },
    {
      "cell_type": "code",
      "metadata": {
        "id": "4ToywwD1STOC"
      },
      "source": [
        "# pooling 沒有params\n",
        "w2 = cnn.get_layer(\"average_pooling2d_18\").get_weights()\n",
        "print(len(w2))\n",
        "w = cnn.get_layer(\"conv2d_199\").get_weights()\n",
        "print(w[0].shape)"
      ],
      "execution_count": null,
      "outputs": []
    },
    {
      "cell_type": "code",
      "metadata": {
        "id": "OJFevX9XTAG7"
      },
      "source": [
        "# 通道的混合- 192個特徵 組合成48個(先組合縱深, 再組合長寬卷積)\n",
        "# 1 * 1 先混成通道, 就可以減少計算量 192 -> 48\n",
        "# 5*5 = 1*1 -> 5*5\n",
        "w = cnn.get_layer(\"conv2d_194\").get_weights()\n",
        "print(w[0].shape)\n",
        "w = cnn.get_layer(\"conv2d_195\").get_weights()\n",
        "print(w[0].shape)"
      ],
      "execution_count": null,
      "outputs": []
    },
    {
      "cell_type": "code",
      "metadata": {
        "id": "GL628GCEUeku"
      },
      "source": [
        "# 5*5 = 1*1 -> 3*3 -> 3*3\n",
        "w = cnn.get_layer(\"conv2d_196\").get_weights()\n",
        "print(w[0].shape)\n",
        "# 2次的3*3(2層微小 子神經 的概念) -> 有輕重的5*5\n",
        "w = cnn.get_layer(\"conv2d_197\").get_weights()\n",
        "print(w[0].shape)\n",
        "w = cnn.get_layer(\"conv2d_198\").get_weights()\n",
        "print(w[0].shape)"
      ],
      "execution_count": null,
      "outputs": []
    }
  ]
}