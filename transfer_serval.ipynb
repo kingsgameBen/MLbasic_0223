{
  "nbformat": 4,
  "nbformat_minor": 0,
  "metadata": {
    "colab": {
      "name": "transfer_serval.ipynb",
      "private_outputs": true,
      "provenance": [],
      "collapsed_sections": [],
      "toc_visible": true,
      "mount_file_id": "1UquaAK8QkSje7haurfquF8MxTiR-eEfX",
      "authorship_tag": "ABX9TyOMz/uZL6O2ZdIgRz6P/1L6",
      "include_colab_link": true
    },
    "kernelspec": {
      "name": "python3",
      "display_name": "Python 3"
    },
    "language_info": {
      "name": "python"
    },
    "accelerator": "GPU"
  },
  "cells": [
    {
      "cell_type": "markdown",
      "metadata": {
        "id": "view-in-github",
        "colab_type": "text"
      },
      "source": [
        "<a href=\"https://colab.research.google.com/github/kingsgameBen/MLbasic_0223/blob/main/transfer_serval.ipynb\" target=\"_parent\"><img src=\"https://colab.research.google.com/assets/colab-badge.svg\" alt=\"Open In Colab\"/></a>"
      ]
    },
    {
      "cell_type": "markdown",
      "metadata": {
        "id": "ZuOOscnyAj5w"
      },
      "source": [
        "# 遷移學習練習 \b- google圖片集\n",
        "藪貓、美洲豹、石虎 識別"
      ]
    },
    {
      "cell_type": "code",
      "metadata": {
        "id": "7i2gERFbvbW8"
      },
      "source": [
        "from os import path\n",
        "import glob\n",
        "from PIL import Image\n",
        "base_dir = \"drive/MyDrive/google_crawler/\"\n",
        "print(len(base_dir))\n",
        "serval = glob.glob(base_dir + \"serval/*\")\n",
        "leopard_cat = glob.glob(base_dir + \"石虎/*\")\n",
        "jaguar = glob.glob(base_dir + \"美洲豹/*\")\n",
        "# Image.open(serval[0]).resize((224, 224)).convert(\"RGB\").show()\n",
        "# l = Image.open(leopard_cat[3]).resize((224, 224)).convert(\"RGB\")\n",
        "# print(Image.open(serval[10]))\n",
        "Image.open(jaguar[0]).resize((224, 224)).convert(\"RGB\")"
      ],
      "execution_count": null,
      "outputs": []
    },
    {
      "cell_type": "code",
      "metadata": {
        "id": "Iku1tyr3vj5o"
      },
      "source": [
        "import pandas as pd\n",
        "datas = pd.DataFrame({\n",
        "    \"path\":serval+leopard_cat+jaguar,\n",
        "    \"ans\":[0]* len(serval) + [1]* len(leopard_cat) + [2] * len(jaguar)\n",
        "})\n",
        "print(\"藪貓圖片數: \", len(serval))\n",
        "print(\"石虎圖片數:\", len(leopard_cat))\n",
        "print(\"美洲豹圖片數:\", len(jaguar))\n",
        "print(datas)\n",
        "print(datas.shape)"
      ],
      "execution_count": null,
      "outputs": []
    },
    {
      "cell_type": "code",
      "metadata": {
        "id": "p75cIGCHzuCH"
      },
      "source": [
        "# 遷移學習, 偷它訓練好的weights\n",
        "from tensorflow.keras.applications.vgg16 import VGG16\n",
        "vgg = VGG16(include_top=False, input_shape=(224, 224, 3))\n",
        "vgg.summary()"
      ],
      "execution_count": null,
      "outputs": []
    },
    {
      "cell_type": "markdown",
      "metadata": {
        "id": "hUxfKL_x0ith"
      },
      "source": [
        "# 下游任務"
      ]
    },
    {
      "cell_type": "markdown",
      "metadata": {
        "id": "zaJmdCCrJYyl"
      },
      "source": [
        ""
      ]
    },
    {
      "cell_type": "code",
      "metadata": {
        "id": "vDz817430nGG"
      },
      "source": [
        "from tensorflow.keras.layers import Flatten, Dense, Dropout, BatchNormalization, GlobalAveragePooling2D\n",
        "from tensorflow.keras.models import Sequential\n",
        "vgg_layers = vgg.layers\n",
        "print(len(vgg_layers))\n",
        "# 減少不用訓練的參數(原本模型已經幫我訓練好了)\n",
        "for l in vgg_layers:\n",
        "    l.trainable = False\n",
        "clf_layers = [\n",
        "        # 原本的平均及標準差各512個, 新的平均＆標準差也各512個=> 512*2*2=2048\n",
        "        # 原本的平均＆標準差不做訓練:Non-trainable + 1024, 新的平均＆標準差: trainable + 1024\n",
        "        BatchNormalization(),\n",
        "        # Flatten(),\n",
        "        # Dense(128, activation=\"relu\"),\n",
        "        # Dropout(0.25),\n",
        "        GlobalAveragePooling2D(),\n",
        "        Dense(3, activation=\"softmax\")\n",
        "]\n",
        "model = Sequential(vgg_layers + clf_layers)\n",
        "model.summary()"
      ],
      "execution_count": null,
      "outputs": []
    },
    {
      "cell_type": "code",
      "metadata": {
        "id": "bf4V0lXY2tQq"
      },
      "source": [
        "from tensorflow.keras.losses import SparseCategoricalCrossentropy\n",
        "model.compile(loss=SparseCategoricalCrossentropy(),\n",
        "              optimizer=\"adam\",\n",
        "              metrics=[\"accuracy\"])"
      ],
      "execution_count": null,
      "outputs": []
    },
    {
      "cell_type": "code",
      "metadata": {
        "id": "pOHX1AWl3mLX"
      },
      "source": [
        "# demo pre: 你的預處理也要抄當初模型訓練時的預處理 (x_train的圖片不要 ÷255.0 )\n",
        "# [ https://github.com/keras-team/keras-applications/blob/master/keras_applications/imagenet_utils.py ]\n",
        "import numpy as np\n",
        "from tensorflow.keras.applications.vgg16 import preprocess_input\n",
        "img = Image.open(serval[50]).resize((224, 224)).convert(\"RGB\")\n",
        "img_np = np.array(img)\n",
        "img.show()\n",
        "# print(img_np)\n",
        "preprocess_input(img_np)"
      ],
      "execution_count": null,
      "outputs": []
    },
    {
      "cell_type": "markdown",
      "metadata": {
        "id": "5C9bPWyA0Aaf"
      },
      "source": [
        "numpy的random\n",
        "[ https://numpy.org/doc/stable/reference/random/generated/numpy.random.randint.html ]"
      ]
    },
    {
      "cell_type": "code",
      "metadata": {
        "id": "TjtE7wV-01Ug"
      },
      "source": [
        "x, y = np.array(datas[\"path\"]), np.array(datas[\"ans\"])\n",
        "print(len(x), len(y))"
      ],
      "execution_count": null,
      "outputs": []
    },
    {
      "cell_type": "code",
      "metadata": {
        "id": "gyUI11iSzS-6"
      },
      "source": [
        "# 0~3 隨機整數的 2維矩陣(想幾維都可以)\n",
        "# np.random.randint(0, 4, size=(2, 3))\n",
        "def get_data(x, y, batch=20):\n",
        "    batch = 20\n",
        "    idx = np.random.randint(0, len(x), size=batch)\n",
        "    # print(type(idx), len(idx))\n",
        "    y_batch = y[idx]\n",
        "    # print(y_batch)\n",
        "    x_batch, x_batch_ori = [], []\n",
        "    for path in x[idx]:\n",
        "        img = Image.open(path).resize((224, 224)).convert(\"RGB\")\n",
        "        img_np = np.array(img)\n",
        "        img_np_pre = preprocess_input(img_np)\n",
        "        # print(img_np_pre)\n",
        "        x_batch.append(img_np_pre)\n",
        "        x_batch_ori.append(img_np)\n",
        "    return (np.array(x_batch), np.array(y_batch), np.array(x_batch_ori))\n",
        "x_batch, y_batch, x_batch_ori = get_data(x, y)\n",
        "print(x_batch.shape)\n",
        "print(y_batch.shape)\n",
        "print(x_batch_ori.shape)"
      ],
      "execution_count": null,
      "outputs": []
    },
    {
      "cell_type": "markdown",
      "metadata": {
        "id": "TL9qEyGR36Gc"
      },
      "source": [
        "train_on_batch [ https://keras.io/zh/models/model/ ]"
      ]
    },
    {
      "cell_type": "code",
      "metadata": {
        "id": "mPznzoAB3qD0"
      },
      "source": [
        "for i in range(150):\n",
        "    print(\"-\"*80, i, \"-\"*80)\n",
        "    x_batch, y_batch, x_batch_ori = get_data(x, y)\n",
        "    # 自己訓練,自己驗證\n",
        "    result = model.train_on_batch(x_batch, y_batch)\n",
        "    print(\"[Train]:\", result)\n",
        "    x_batch, y_batch, x_batch_ori = get_data(x, y)\n",
        "    result = model.test_on_batch(x_batch, y_batch)\n",
        "    print(\"[Validate]:\", result)"
      ],
      "execution_count": null,
      "outputs": []
    },
    {
      "cell_type": "markdown",
      "metadata": {
        "id": "yqhvtvqy8YZ-"
      },
      "source": [
        "Question1: 出現loss = 0.0 (訓練時出現完全的0、1)\n",
        "\n",
        "Question2: train的loss 從 0.0突然下次又跳到2.2多 (訓練的loss誇張的忽高忽低)\n",
        "\n",
        "Question3: predict時,貓或狗的機率有出現完全1 or 0 (不如何機率的函數) \\\n",
        "---->太常出現,所以模型有問題\n"
      ]
    },
    {
      "cell_type": "code",
      "metadata": {
        "id": "SwLV9OHo7mhR"
      },
      "source": [
        "x_batch, y_batch, x_batch_ori = get_data(x, y, 900)\n",
        "model.evaluate(x_batch, y_batch)"
      ],
      "execution_count": null,
      "outputs": []
    },
    {
      "cell_type": "code",
      "metadata": {
        "id": "tkAEIReH9BKb"
      },
      "source": [
        "model.predict(x_batch)"
      ],
      "execution_count": null,
      "outputs": []
    },
    {
      "cell_type": "code",
      "metadata": {
        "id": "OhAzVRhZ-mFn"
      },
      "source": [
        "# vgg.layers[1].get_weights()"
      ],
      "execution_count": null,
      "outputs": []
    },
    {
      "cell_type": "code",
      "metadata": {
        "id": "eNx3wGjmr0aP"
      },
      "source": [
        "import numpy as np\n",
        "import matplotlib.pyplot as plt\n",
        "pre = model.predict_classes(x_batch)\n",
        "trans = [\"Serval\", \"Leopard Cat\", \"Jaguar\"]\n",
        "idx = np.nonzero(pre != y_batch)[0][:100]\n",
        "print(np.nonzero(pre != y_batch)[0].size)\n",
        "false_img = x_batch_ori[idx]\n",
        "false_pre = pre[idx]\n",
        "false_label = y_batch[idx]\n",
        "plt.figure(figsize=(20, 30))\n",
        "width = 10\n",
        "height = len(idx) // width + 1\n",
        "for i in range(len(idx)):\n",
        "    plt.subplot(height, width, i+1)\n",
        "    plt.imshow(false_img[i])\n",
        "    t = \"[Ori]:{}\\n[Pre]:{}\".format(trans[false_label[i]], trans[false_pre[i]])\n",
        "    plt.title(t)\n",
        "    plt.axis(\"off\")\n"
      ],
      "execution_count": null,
      "outputs": []
    },
    {
      "cell_type": "code",
      "metadata": {
        "id": "pXheZuQwr2Q5"
      },
      "source": [
        "from PIL import Image\n",
        "import requests\n",
        "headers ={\n",
        "    \"user-agent\": \"Mozilla/5.0 (Macintosh; Intel Mac OS X 11_2_3) AppleWebKit/537.36 (KHTML, like Gecko) Chrome/89.0.4389.90 Safari/537.36\"\n",
        "}\n",
        "url = input(\"url: \")\n",
        "response = requests.get(url, headers=headers, stream=True, verify=False)\n",
        "# 要跟訓練資料的圖片相同大小、相同色碼\n",
        "img = Image.open(response.raw).resize((224, 224)).convert(\"RGB\")\n",
        "img_np = np.array(img)\n",
        "# 要與訓練同維度，調整圖片為四個維度(1筆資料, 長32, 寬32, 色碼3)\n",
        "img_np_r = preprocess_input(img_np.reshape(1, 224, 224, 3))\n",
        "proba = model.predict(img_np_r)[0]\n",
        "for i, p in enumerate(proba):\n",
        "    print(trans[i], \"的機率:\", p)\n",
        "ans = model.predict_classes(img_np_r)[0]\n",
        "print(\"答案:\", trans[ans])\n",
        "plt.imshow(img_np)\n",
        "# test image: 藪貓:Ｏ Ｏ Ｘ Ｏ Ｘ 石虎: Ｏ Ｏ Ｏ 美洲豹: Ｏ Ｘ Ｘ Ｘ Ｏ\n",
        "# https://images2.gamme.com.tw/news2/2017/73/16/qJeanp_clKaZqag.jpg \n",
        "# https://images2.gamme.com.tw/news2/2017/73/16/qJeanp_clKaZq6o.jpg\n",
        "# https://images2.gamme.com.tw/news2/2017/73/16/qJeanp_clKaZqaQ.jpg\n",
        "# http://i.imgur.com/gcrYxlp.jpg\n",
        "# https://i.imgur.com/1CIbnj9.jpg\n",
        "\n",
        "# https://upload.wikimedia.org/wikipedia/commons/thumb/9/9e/%E7%9F%B3%E8%99%8E%EF%BC%88%E8%B1%B9%E8%B2%93%EF%BC%89%E6%A8%99%E6%9C%AC.jpg/500px-%E7%9F%B3%E8%99%8E%EF%BC%88%E8%B1%B9%E8%B2%93%EF%BC%89%E6%A8%99%E6%9C%AC.jpg\n",
        "# https://upload.wikimedia.org/wikipedia/commons/thumb/4/4f/Leopard_Cat_Tennoji.jpg/440px-Leopard_Cat_Tennoji.jpg\n",
        "# https://npgis.cpami.gov.tw/public/data/jpg/M0055p01.jpg\n",
        "\n",
        "# https://www.natgeomedia.com/wp-content/uploads/2017/12/06-waq-jaguar-leopard-big-cat.adapt_.1190.1.jpg\n",
        "# https://www.shishang.com.tw/wp-content/uploads/2019/09/y8.jpg\n",
        "# https://media.istockphoto.com/photos/leopard-sleeping-full-stomach-with-yellow-balls-picture-id594025408?k=6&m=594025408&s=612x612&w=0&h=2DpbN0f6CspK02tOEbzHBTCZclLKweDl80If4RgTCw8=\n",
        "# https://media.istockphoto.com/photos/amur-leopard-picture-id1011376038?k=6&m=1011376038&s=612x612&w=0&h=gd1qQBjCtg7T_EN-NghHuIj1kpZVx7e9fX8N1TNA4Ig=\n",
        "# https://media.istockphoto.com/photos/leopard-panthera-pardus-walking-and-looking-up-picture-id93018636?k=6&m=93018636&s=612x612&w=0&h=BkszU3PxSxAkuFub3hHzr9qVEcyz9E0soCO0XjYnGtA=\n",
        "\n",
        "# 獰貓\n",
        "# https://i1.kknews.cc/SIG=1k4ap36/ctp-vzntr/1520913050007718771s7oq.jpg"
      ],
      "execution_count": null,
      "outputs": []
    }
  ]
}