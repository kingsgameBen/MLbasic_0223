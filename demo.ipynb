{
 "cells": [
  {
   "cell_type": "markdown",
   "metadata": {
    "collapsed": true
   },
   "source": [
    "## pycharm 2018.3版本 才可以new jupyter file  (.ipynb)\n",
    "_________________________________________________________\n",
    "+ save and checkpoint 設定存檔點(防止當機時資料流失,只會有一個存檔點)\n",
    "    * revert to checkpoint\n",
    "[markdown說明](https://tiida54.github.io/2018/01/03/3分鐘學會Markdown常用語法/)\n",
    "+ latex語法 打出漂亮的特殊符號\n",
    "    *[打出數學符號的語法 latex math](https://en.wikibooks.org/wiki/LaTeX/Mathematics)\n",
    "$ area = \\pi \\times r_1^2 $\n",
    "\n",
    "1. 登入github\n",
    "2. new repository\n",
    "3. Add a README file\n"
   ]
  },
  {
   "cell_type": "code",
   "execution_count": 1,
   "metadata": {},
   "outputs": [
    {
     "name": "stdout",
     "output_type": "stream",
     "text": [
      "3\n"
     ]
    }
   ],
   "source": [
    "a = 3\n",
    "print(a)"
   ]
  },
  {
   "cell_type": "code",
   "execution_count": 2,
   "metadata": {},
   "outputs": [
    {
     "name": "stdout",
     "output_type": "stream",
     "text": [
      "8\n"
     ]
    }
   ],
   "source": [
    "print(a+5)"
   ]
  },
  {
   "cell_type": "code",
   "execution_count": null,
   "metadata": {},
   "outputs": [],
   "source": []
  }
 ],
 "metadata": {
  "kernelspec": {
   "display_name": "Python 3",
   "language": "python",
   "name": "python3"
  },
  "language_info": {
   "codemirror_mode": {
    "name": "ipython",
    "version": 3
   },
   "file_extension": ".py",
   "mimetype": "text/x-python",
   "name": "python",
   "nbconvert_exporter": "python",
   "pygments_lexer": "ipython3",
   "version": "3.8.7"
  }
 },
 "nbformat": 4,
 "nbformat_minor": 1
}
