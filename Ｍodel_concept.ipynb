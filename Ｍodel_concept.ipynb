{
  "nbformat": 4,
  "nbformat_minor": 0,
  "metadata": {
    "colab": {
      "name": "Ｍodel_concept.ipynb",
      "private_outputs": true,
      "provenance": [],
      "collapsed_sections": [],
      "toc_visible": true,
      "mount_file_id": "1JZ2i4_ksymFfvcC8mIZY1ztjG8jmi0Ur",
      "authorship_tag": "ABX9TyMio1QT/EG3V48fICh7Qdrz",
      "include_colab_link": true
    },
    "kernelspec": {
      "name": "python3",
      "display_name": "Python 3"
    },
    "language_info": {
      "name": "python"
    }
  },
  "cells": [
    {
      "cell_type": "markdown",
      "metadata": {
        "id": "view-in-github",
        "colab_type": "text"
      },
      "source": [
        "<a href=\"https://colab.research.google.com/github/kingsgameBen/MLbasic_0223/blob/main/%EF%BC%ADodel_concept.ipynb\" target=\"_parent\"><img src=\"https://colab.research.google.com/assets/colab-badge.svg\" alt=\"Open In Colab\"/></a>"
      ]
    },
    {
      "cell_type": "markdown",
      "metadata": {
        "id": "-TOCY7nEO-O5"
      },
      "source": [
        "# flatten()(Embedding(.....))\n",
        "\n",
        "CGAN"
      ]
    },
    {
      "cell_type": "code",
      "metadata": {
        "id": "I7h1bEcMO4f7"
      },
      "source": [
        "import random\n",
        "b = int\n",
        "# 函式也是一種型態\n",
        "print(type(random.randint))\n",
        "print(b(2.5))"
      ],
      "execution_count": null,
      "outputs": []
    },
    {
      "cell_type": "code",
      "metadata": {
        "id": "IHaKSqUOQW0y"
      },
      "source": [
        "class Person:\n",
        "    def __init__(self, w, h):\n",
        "        self.w = w\n",
        "        self.h = h\n",
        "    def __add__(self, other):\n",
        "        new_w = (self.w + other.w) / 2\n",
        "        new_h = (self.h + other.h) / 2\n",
        "        return Person(new_w, new_h)\n",
        "p1 = Person(80, 175)\n",
        "p2 = Person(75, 180)\n",
        "# p1.__add__(p2)\n",
        "p3 = p1 + p2\n",
        "\n",
        "print(p3)\n",
        "print(p3.w, p3.h)"
      ],
      "execution_count": null,
      "outputs": []
    },
    {
      "cell_type": "code",
      "metadata": {
        "id": "OQq_MW7yTKMC"
      },
      "source": [
        "def test():\n",
        "    return int\n",
        "# return 函式的名稱：int\n",
        "test()(2.6)"
      ],
      "execution_count": null,
      "outputs": []
    },
    {
      "cell_type": "markdown",
      "metadata": {
        "id": "od5lvmbuSrf9"
      },
      "source": [
        "# tensor 張量：多維向量\n",
        "# tensorflow: tensor 的流動\n",
        "### resnet 有跳線， 承接的時候是多個input，出去時可能是多個output，故需要用Model模型建構方式\n",
        "### ex: yolov3 ( darknet )\n",
        "Tensor = Func(Tensor)\n",
        "\n",
        "模型可視化\n",
        "https://keras-cn.readthedocs.io/en/latest/other/visualization/\n",
        "\n"
      ]
    },
    {
      "cell_type": "code",
      "metadata": {
        "id": "W5vv0fPKR9JC"
      },
      "source": [
        "from tensorflow.keras.models import Model\n",
        "from tensorflow.keras.layers import Dense, Dropout, Input\n",
        "from tensorflow.keras.utils import plot_model\n",
        "\n",
        "i = Input(shape=(784, ))\n",
        "print(i) # KerasTensor\n",
        "d1 = Dense(128, activation=\"relu\")(i) # layer 的 function\n",
        "d2 = Dense(10, activation=\"softmax\")(d1)\n",
        "d3 = Dense(10, activation=\"softmax\")(d1)\n",
        "model = Model(inputs=i, outputs=[d2, d3])\n",
        "print(model.summary())\n",
        "plot_model(model, show_shapes=True)"
      ],
      "execution_count": null,
      "outputs": []
    },
    {
      "cell_type": "code",
      "metadata": {
        "id": "s3MKD57PYYSO"
      },
      "source": [
        "from tensorflow.keras.layers import Conv2D, Add\n",
        "i = Input(shape=(14, 14, 512))\n",
        "c1 = Conv2D(256, 1, padding=\"same\", activation=\"relu\")(i)\n",
        "c2 = Conv2D(512, 3, padding=\"same\", activation=\"relu\")(c1)\n",
        "o = Add()([i, c2])\n",
        "model = Model(i, o)\n",
        "plot_model(model, show_shapes=True)\n"
      ],
      "execution_count": null,
      "outputs": []
    }
  ]
}