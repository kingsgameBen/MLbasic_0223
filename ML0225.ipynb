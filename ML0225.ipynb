{
  "nbformat": 4,
  "nbformat_minor": 0,
  "metadata": {
    "colab": {
      "name": "ML0225.ipynb",
      "provenance": [],
      "collapsed_sections": [],
      "authorship_tag": "ABX9TyOK+1zQOm4kmjjfgXWuWXzF",
      "include_colab_link": true
    },
    "kernelspec": {
      "name": "python3",
      "display_name": "Python 3"
    }
  },
  "cells": [
    {
      "cell_type": "markdown",
      "metadata": {
        "id": "view-in-github",
        "colab_type": "text"
      },
      "source": [
        "<a href=\"https://colab.research.google.com/github/kingsgameBen/MLbasic_0223/blob/main/ML0225.ipynb\" target=\"_parent\"><img src=\"https://colab.research.google.com/assets/colab-badge.svg\" alt=\"Open In Colab\"/></a>"
      ]
    },
    {
      "cell_type": "markdown",
      "metadata": {
        "id": "oLdaVK3Lzz2O"
      },
      "source": [
        "### 人類的智慧： 邏輯 ＋ 經驗<--AI人工智慧\n",
        "\n",
        "\n",
        "ＡＩ  - 資料科學：  *First of thing -> 1.「 資料 」的準備 2.演算法 3.模型\n",
        "    * 演算法->統計資料(訓練：驗證 8:2)-> 訓練出模型(80%-90%) -> 驗證模型(20%-10%)\n",
        "1. -[x] 機器學習（傳統統計）--> 表格\n",
        "\n",
        "2. -[x] 深度學習： 抽象問題, 模仿人類神經 (體驗、美醜[容貌、氣質、穿搭...]、圖、文、音樂)\n",
        "\n",
        "input -> 模型 -> output\n",
        "深度學習 範例 ： edge cat (圖像翻譯)[https://affinelayer.com/pixsrv/]\n",
        "-------------------------------------------\n",
        "input    |  output\n",
        "-------------------------------------------\n",
        "         |  選擇題: Classification 分類問題\n",
        "-------------------------------------------\n",
        "         |  計算題: Regression 迴歸問題 (溫度、金錢)\n",
        "-------------------------------------------\n",
        "         |  cluster(分群 問題)\n",
        "            :辨認梵谷莫內達文西的作品?沒有output的選擇題：利用「題目的相似度」猜答案\n",
        "-------------------------------------------\n",
        "\n",
        "sklearn 安裝  (pycharm要安裝scikit-learn)\n",
        "搜尋sklearn dataset[https://scikit-learn.org/stable/datasets/toy_dataset.html]\n",
        "\n",
        "### colab import 前要先連線 \n",
        "\n",
        "需要的資料量：\n",
        "ML - 千～萬筆\n",
        "DL - 萬～十萬筆(以上)\n",
        "\n",
        "\n",
        "## 以iris鳶尾花dataset 講解分類問題\n",
        "\n"
      ]
    },
    {
      "cell_type": "code",
      "metadata": {
        "id": "hb2HF-7T12HX"
      },
      "source": [
        "import pandas as pd\n",
        "from sklearn.datasets import load_iris\n",
        "# 分辨鳶尾花\n",
        "iris = load_iris() # 3 type iris\n",
        "df = pd.DataFrame(iris['data']\n",
        "                  ,columns = iris['feature_names'])\n",
        "df['ans'] = iris['target']\n",
        "print(iris['feature_names'])\n",
        "df"
      ],
      "execution_count": null,
      "outputs": []
    },
    {
      "cell_type": "markdown",
      "metadata": {
        "id": "T0vYdV7Qwtax"
      },
      "source": [
        "訓練 train\n",
        "\n",
        "驗證 test\n",
        "\n",
        "題目欄位的data :input  x\n",
        "\n",
        "答案欄位的data :output y\n",
        "\n",
        "x, y 都要訓練及驗證"
      ]
    },
    {
      "cell_type": "code",
      "metadata": {
        "id": "EFGeb8uvwjnd"
      },
      "source": [
        "# from sklearn.model_selection import train_test_split\n",
        "# train_test_split([1, 2, 3, 4],\n",
        "#                  [5, 6, 7, 8],\n",
        "#                  [9, 10, 11, 12],\n",
        "#                  test_size=0.25)"
      ],
      "execution_count": null,
      "outputs": []
    },
    {
      "cell_type": "code",
      "metadata": {
        "id": "2UCR2ZBTx1Zp"
      },
      "source": [
        "import numpy as np\n",
        "from sklearn.model_selection import train_test_split\n",
        "# [題目90, 題目10, 答案90, 答案10]  ！！ 隨機選出(採樣)\n",
        "x_train, x_test, y_train, y_test = train_test_split(np.array(iris['data']),\n",
        "                                                    np.array(iris['target']),\n",
        "                                                    test_size=0.1)\n",
        "\n",
        "x_train, x_test, y_train, y_test"
      ],
      "execution_count": null,
      "outputs": []
    },
    {
      "cell_type": "markdown",
      "metadata": {
        "id": "MbWX7qjx0BVp"
      },
      "source": [
        "決策樹\n",
        "*(export_graphviz)[https://scikit-learn.org/stable/modules/generated/sklearn.tree.export_graphviz.html]\n",
        "\n",
        "更好的方法\n",
        "*(plot_tree)[https://scikit-learn.org/stable/modules/generated/sklearn.tree.plot_tree.html#sklearn.tree.plot_tree]\n",
        "\n",
        "(DecisionTreeClassifier的method fit(X, y) )[https://scikit-learn.org/stable/modules/generated/sklearn.tree.DecisionTreeClassifier.html#sklearn.tree.DecisionTreeClassifier]"
      ]
    },
    {
      "cell_type": "code",
      "metadata": {
        "id": "Yjt2ru1n0IAq"
      },
      "source": [
        "from sklearn.tree import DecisionTreeClassifier\n",
        "clf = DecisionTreeClassifier(max_depth=2)\n",
        "clf.fit(x_train, y_train)"
      ],
      "execution_count": null,
      "outputs": []
    },
    {
      "cell_type": "code",
      "metadata": {
        "id": "kgzMHQvG0tLJ"
      },
      "source": [
        "# from sklearn.tree import export_graphviz\n",
        "# google : export_graphviz\n",
        "# export_graphviz(clf)\n",
        "\n",
        "\n",
        "# plot_tree 比 export_graphviz 更好用\n",
        "from sklearn.tree import plot_tree\n",
        "import matplotlib.pyplot as plt\n",
        "plt.figure(figsize=(14, 14))\n",
        "plot_tree(clf, \n",
        "          feature_names=iris['feature_names'], \n",
        "          class_names=iris['target_names'], \n",
        "          filled=True)\n",
        "\n"
      ],
      "execution_count": null,
      "outputs": []
    },
    {
      "cell_type": "markdown",
      "metadata": {
        "id": "p8KWCC6G7JXA"
      },
      "source": [
        "target: 是否是工程師\n",
        "\n",
        "input: 眼鏡與否 / 手部是否有長繭\n",
        "output: 工程師 / 非工程師\n",
        "\n",
        "(工程師50:非工程師50)  為劃分前 - 信心程度(猜對機率)50%\n",
        "* 以眼鏡劃分 - 信心度 50％ -> 廢\n",
        "* 以長繭劃分 - 信心度 100% -> 強\n",
        "* ---> 以長繭 劃分才有用\n",
        "\n",
        "猜錯機率怎麼衡量？\n",
        "(猜錯)$min  8/10( 1 - \\frac{8}{10}) + 2/10(1 - \\frac{2}{10})$\n",
        "=> Gini係數\n",
        "公式 $\\sum P_i(1 - P_i)$\n",
        "\n",
        "gini係數＝0 (代表絕對平等, 就是無法再分類的意思)\n",
        "\n",
        "\n",
        "Entropy亂度 -> 也是猜錯機率\n",
        "\n",
        "統計 過於少數的樣本 應該視而不見 不尊重極少數 避免影響模型\n",
        "+ 擬合\n",
        "> * 欠擬合 -> 剛剛好 -> 過擬合(學習過於稀少的例子) - \n",
        "  檢查過擬合\n",
        "\n",
        "* 預測input的分類 predict\n",
        "[https://scikit-learn.org/stable/modules/generated/sklearn.tree.DecisionTreeClassifier.html#sklearn.tree.DecisionTreeClassifier.predict]\n",
        ">> 回傳預測的分類,或是預測的迴歸值\n",
        "\n",
        "被正確分類的衡量級分\n",
        "> (accuracy_score)[https://scikit-learn.org/stable/modules/generated/sklearn.metrics.accuracy_score.html#sklearn.metrics.accuracy_score]\n",
        ">> (最高回傳浮點數1.0  ,第三個參數normalize預設值True, 若改false則回傳正確分類的數量)\n"
      ]
    },
    {
      "cell_type": "code",
      "metadata": {
        "id": "zYzgU8x0DJgC"
      },
      "source": [
        "# metrics 矩陣 度量標準\n",
        "from sklearn.metrics import accuracy_score\n",
        "pre = clf.predict(x_test)\n",
        "accuracy_score(pre, y_test)"
      ],
      "execution_count": null,
      "outputs": []
    }
  ]
}