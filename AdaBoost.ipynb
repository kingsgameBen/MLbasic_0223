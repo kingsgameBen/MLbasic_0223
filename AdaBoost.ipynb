{
  "nbformat": 4,
  "nbformat_minor": 0,
  "metadata": {
    "colab": {
      "name": "AdaBoost.ipynb",
      "private_outputs": true,
      "provenance": [],
      "collapsed_sections": [],
      "authorship_tag": "ABX9TyPubkOBKHnPwL0fP7jxzBZC",
      "include_colab_link": true
    },
    "kernelspec": {
      "name": "python3",
      "display_name": "Python 3"
    },
    "language_info": {
      "name": "python"
    }
  },
  "cells": [
    {
      "cell_type": "markdown",
      "metadata": {
        "id": "view-in-github",
        "colab_type": "text"
      },
      "source": [
        "<a href=\"https://colab.research.google.com/github/kingsgameBen/MLbasic_0223/blob/main/AdaBoost.ipynb\" target=\"_parent\"><img src=\"https://colab.research.google.com/assets/colab-badge.svg\" alt=\"Open In Colab\"/></a>"
      ]
    },
    {
      "cell_type": "code",
      "metadata": {
        "id": "AtDwHej5V4af"
      },
      "source": [
        "import numpy as np\n",
        "from scipy.io import arff\n",
        "from sklearn.ensemble import BaggingClassifier, RandomForestClassifier, AdaBoostClassifier, GradientBoostingClassifier\n",
        "from sklearn.model_selection import cross_val_score\n",
        "from urllib.request import urlretrieve\n",
        "url = \"https://storm.cis.fordham.edu/~gweiss/data-mining/weka-data/diabetes.arff\"\n",
        "urlretrieve(url, \"diabetes.arff\")\n",
        "data, meta = arff.loadarff('diabetes.arff')\n",
        "X = np.empty((0, 8), np.float)\n",
        "Y = np.empty((0, 1), np.str)\n",
        "print(len(data))\n",
        "print(data[10])"
      ],
      "execution_count": null,
      "outputs": []
    },
    {
      "cell_type": "code",
      "metadata": {
        "id": "1HBvosUamoVH"
      },
      "source": [
        "for e in data:\n",
        "    e2 = list(e)\n",
        "    X = np.append(X, [e2[0:8]], axis=0)\n",
        "    Y = np.append(Y, e2[8:9])\n",
        "print(X)"
      ],
      "execution_count": null,
      "outputs": []
    },
    {
      "cell_type": "code",
      "metadata": {
        "id": "n31J1WD7nmi8"
      },
      "source": [
        "# 裝袋法\n",
        "clf1 = BaggingClassifier()\n",
        "scores = cross_val_score(clf1, X, Y, cv=10)\n",
        "print(\"{0:4.2f} +/- {1:4.2f} %\".format(scores.mean()*100, scores.std()*100))"
      ],
      "execution_count": null,
      "outputs": []
    },
    {
      "cell_type": "code",
      "metadata": {
        "id": "ChYlGNf9ohaX"
      },
      "source": [
        "# 隨機森林\n",
        "clf2 = RandomForestClassifier()\n",
        "scores = cross_val_score(clf2, X, Y, cv=10)\n",
        "print(\"{0:4.2f} +/- {1:4.2f} %\".format(scores.mean()*100, scores.std()*100))"
      ],
      "execution_count": null,
      "outputs": []
    },
    {
      "cell_type": "code",
      "metadata": {
        "id": "31AUEBRTp4qQ"
      },
      "source": [
        "# 提升法 AdaBoostClassifier\n",
        "clf3 = AdaBoostClassifier()\n",
        "scores = cross_val_score(clf3, X, Y, cv=10)\n",
        "print(\"{0:4.2f} +/- {1:4.2f} %\".format(scores.mean()*100, scores.std()*100))"
      ],
      "execution_count": null,
      "outputs": []
    },
    {
      "cell_type": "code",
      "metadata": {
        "id": "vMGnFZniqinO"
      },
      "source": [
        "# 梯度提升法 GradientBoostingClassifier\n",
        "clf4 = GradientBoostingClassifier()\n",
        "scores = cross_val_score(clf4, X, Y, cv=10)\n",
        "print(\"{0:4.2f} +/- {1:4.2f} %\".format(scores.mean()*100, scores.std()*100))"
      ],
      "execution_count": null,
      "outputs": []
    }
  ]
}