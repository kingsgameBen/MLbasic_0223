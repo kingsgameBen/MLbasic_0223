{
  "nbformat": 4,
  "nbformat_minor": 0,
  "metadata": {
    "colab": {
      "name": "鐵達尼號.ipynb",
      "private_outputs": true,
      "provenance": [],
      "authorship_tag": "ABX9TyM6kUKewkf/mPwXQsH+J/IY",
      "include_colab_link": true
    },
    "kernelspec": {
      "name": "python3",
      "display_name": "Python 3"
    }
  },
  "cells": [
    {
      "cell_type": "markdown",
      "metadata": {
        "id": "view-in-github",
        "colab_type": "text"
      },
      "source": [
        "<a href=\"https://colab.research.google.com/github/kingsgameBen/MLbasic_0223/blob/main/%E9%90%B5%E9%81%94%E5%B0%BC%E8%99%9F.ipynb\" target=\"_parent\"><img src=\"https://colab.research.google.com/assets/colab-badge.svg\" alt=\"Open In Colab\"/></a>"
      ]
    },
    {
      "cell_type": "markdown",
      "metadata": {
        "id": "4shoWpsDui7z"
      },
      "source": [
        "註冊Kaggle\n",
        "\n",
        "sign in with google: ReZeroBen\n",
        "\n",
        "\n",
        "資料預處理\n",
        "\n",
        "\n",
        "欄位先分成兩種\n",
        "  1. 類別型：艙等Pclass、Name(mid)、Sex、Cabin(首字母$1^{st}$)、Embarked\n",
        "\n",
        "  2. 數值型: 年紀age、SibSp、Parch、ticket(share同張票)、Fare\n",
        "\n",
        "\n",
        "1. 填補缺失值：=> 最可能的數值 \\\n",
        "從可能的欄位推敲、\\\n",
        "類別：該欄位最常出現的值\n",
        "\n",
        "數值：=> ex:薪資->中位數\n",
        "  - 眾數\n",
        "  - 平均數(單位:數值、錢、收入...把大家削成一樣的!)\n",
        "  - $\\ast$中位數$\\ast$(單位：人數、數量、計數...)\n",
        "\n",
        "一起填 pandas.concat\n",
        "[ https://pandas.pydata.org/pandas-docs/stable/reference/api/pandas.concat.html ]\n",
        "\n",
        "axis 雙向型的api\n",
        "\n",
        "axis=0 縱向連接 \\\n",
        "axis=1 橫向型連接(擴增欄位)"
      ]
    },
    {
      "cell_type": "code",
      "metadata": {
        "id": "bJwf8gQguhF_"
      },
      "source": [
        "from urllib.request import urlretrieve\n",
        "url = \"https://github.com/kingsgameBen/MLbasic_0223/raw/main/titanic/train.csv\"\n",
        "urlretrieve(url, \"train.csv\")\n",
        "url = \"https://github.com/kingsgameBen/MLbasic_0223/raw/main/titanic/test.csv\"\n",
        "urlretrieve(url, \"test.csv\")"
      ],
      "execution_count": null,
      "outputs": []
    },
    {
      "cell_type": "code",
      "metadata": {
        "id": "mw3NjUEK2iDG"
      },
      "source": [
        "import pandas as pd\n",
        "train_df = pd.read_csv(\"train.csv\", encoding=\"utf-8\")\n",
        "test_df = pd.read_csv(\"test.csv\", encoding=\"utf-8\")\n",
        "test_df"
      ],
      "execution_count": null,
      "outputs": []
    },
    {
      "cell_type": "code",
      "metadata": {
        "id": "55_lCQRP3vMU"
      },
      "source": [
        "datas = pd.concat([train_df, test_df], axis=0, ignore_index=True)\n",
        "datas"
      ],
      "execution_count": null,
      "outputs": []
    },
    {
      "cell_type": "markdown",
      "metadata": {
        "id": "ao9tWefq-dXA"
      },
      "source": [
        "(dataframe.sum())[ https://pandas.pydata.org/pandas-docs/stable/reference/api/pandas.DataFrame.sum.html ]\n",
        "\n",
        "把有缺的值做一個篩選\n",
        "\n"
      ]
    },
    {
      "cell_type": "code",
      "metadata": {
        "id": "O1J-oFfa9-87"
      },
      "source": [
        "# .count()數欄位 .sum()可以縱向橫向相加\n",
        "s = datas.isna().sum()\n",
        "# Series[True/False]\n",
        "# s[s > 0].sort_values()\n",
        "s[s > 0].sort_values(ascending=False)"
      ],
      "execution_count": null,
      "outputs": []
    },
    {
      "cell_type": "code",
      "metadata": {
        "id": "iy9vSITR_OGR"
      },
      "source": [
        "datas = datas.drop([\"PassengerId\", \"Survived\"], axis=1)\n",
        "# 數值類型：中位數\n",
        "med = datas.median().drop(\"Pclass\")\n",
        "datas = datas.fillna(med)\n",
        "\n",
        "s = datas.isna().sum()\n",
        "s[s > 0].sort_values(ascending=False)"
      ],
      "execution_count": null,
      "outputs": []
    },
    {
      "cell_type": "code",
      "metadata": {
        "id": "HuDgSf6VArlp"
      },
      "source": [
        "# 類別類型： 找最常出現,不可以取中位數\n",
        "most = datas[\"Embarked\"].value_counts().idxmax()\n",
        "datas[\"Embarked\"] = datas[\"Embarked\"].fillna(most)\n",
        "\n",
        "s = datas.isna().sum()\n",
        "s[s > 0].sort_values(ascending=False)"
      ],
      "execution_count": null,
      "outputs": []
    }
  ]
}