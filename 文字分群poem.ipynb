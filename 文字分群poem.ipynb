{
  "nbformat": 4,
  "nbformat_minor": 0,
  "metadata": {
    "colab": {
      "name": "文字分群poem.ipynb",
      "private_outputs": true,
      "provenance": [],
      "collapsed_sections": [],
      "authorship_tag": "ABX9TyPLpg+k71405f4oSBC1LEXj",
      "include_colab_link": true
    },
    "kernelspec": {
      "name": "python3",
      "display_name": "Python 3"
    }
  },
  "cells": [
    {
      "cell_type": "markdown",
      "metadata": {
        "id": "view-in-github",
        "colab_type": "text"
      },
      "source": [
        "<a href=\"https://colab.research.google.com/github/kingsgameBen/MLbasic_0223/blob/main/%E6%96%87%E5%AD%97%E5%88%86%E7%BE%A4poem.ipynb\" target=\"_parent\"><img src=\"https://colab.research.google.com/assets/colab-badge.svg\" alt=\"Open In Colab\"/></a>"
      ]
    },
    {
      "cell_type": "markdown",
      "metadata": {
        "id": "d9ug6W8PbPGC"
      },
      "source": [
        "## 文字分群 - 詩詞 (李白、杜甫、白居易)\n",
        "- tf: term freqency, 這個詞出現在整篇文章的次數，出現越多次，代表這個詞越能代表整篇文章\n",
        "- idf: inverse document frequency, 這個詞在我蒐集的全部文章出現過的文章數，出現越多次，代表這個詞是一個慣用詞，重要性下降。\n",
        "- tf-idf: 衡量這篇文章的關鍵詞是什麼的方法\n",
        "\n",
        "字詞出現頻率 Ex:\n",
        "\n",
        "日照/香爐/生/紫煙/...／.../......\n",
        "\n",
        "--------\n",
        "\n",
        "1 | 1  | 1  | 1  | 2 | 1  | 1 |...  $\\implies 李白$\n",
        "\n",
        "--------\n",
        "\n",
        "0 | 0 | 1 | 0 | 0 | 1 |1 | 0 |...   $\\implies 杜甫$.....\n",
        "\n",
        "--------\n",
        "\n",
        "若每個詞皆是一個欄位, 則欄位過多\b$\\implies \\color{red}{維度災難}： \\\\\n",
        "\\color{aqua}{演算法不能用}$ \n",
        "\n",
        "資料需求: $\\implies 隨著(欄位)維度的增加\b\b，呈次方等級的遞增 \\implies 資料量不夠分析$\n",
        "\n",
        "$P(A)\\rightarrow A事件發生機率$\n",
        "\n",
        "$P(A \\bigcap B)\\ or\\ P(A \\cdot B) \\rightarrow A事件發生且B事件發生的機率$\n",
        "\n",
        "$\\color{lime}{條件機率}$\n",
        "$P(A \\mid B) \\\n",
        " or\\ P(\\frac{A}{B}) \\rightarrow A事件確定發生的情況下, B事件發生的機率$\n",
        "\n",
        "\\\\\n",
        "P(A) = P(今天下雨) = $\\frac{1}{3}$ \\\\\n",
        "P(B) = P(明天下雨) = $\\frac{1}{2}$ \\\\\n",
        "$P(A \\cdot B)$ = P(今天下, 明天下) = $\\frac{1}{3} \\times \\frac{1}{2}= \\frac{1}{6}$ \\\\\n",
        "P(明天下｜今天下) = $\\frac{1}{3}  已知明天下雨的情況下,今天下雨的機率(若視為獨立事件)$ \\\\\n",
        "\n",
        "$\\underbrace{P(A, B)=P(A)P(\\frac{B}{A}) \\Rightarrow反過來看 = P(B)P(\\frac{A}{B}) \\  }$\n",
        "\n",
        "$\\color{aqua}{貝氏定理}$\n",
        "\n",
        "# $P(\\frac{B}{A})=\\frac{P(B)P(\\frac{A}{B})}{P(A)}$\n",
        "\n",
        "\n",
        "條件機率\n",
        "(非獨立事件: 酒駕檢測)\n",
        "\n",
        "酒測儀器: 檢測正確率95% \\\\\n",
        "全部駕駛有喝酒的比例: 1% \\\\\n",
        "設定誤測率: 5% \\\\\n",
        "\n",
        "&emsp;&emsp;&emsp;&emsp;&emsp;&emsp;&emsp;&emsp;有測出 0.95 \\\\\n",
        "&emsp;&emsp;&emsp;&emsp;&emsp;&emsp;&emsp;/  \\\\\n",
        "&emsp;&emsp;&emsp;有喝 0.01 \\\\\n",
        "&emsp;&emsp;&emsp;&emsp;&emsp;/&emsp;&emsp;\\  \\\\\n",
        "&emsp;&emsp;&emsp;&emsp;/&emsp;&emsp;&emsp;&emsp;沒測出 0.05 \\\\\n",
        "&emsp;&emsp;&emsp;/  \n",
        "&emsp;&emsp;/   \n",
        "&emsp;/\n",
        "&emsp;\\\n",
        "&emsp;&emsp;\\\\\\\n",
        "&emsp;&emsp;&emsp; \\ &emsp; &emsp;&emsp;&emsp;&emsp;卻檢測出 0.05 \\\\\n",
        "&emsp;&emsp;&emsp;&emsp; \\ &emsp;&emsp;&emsp;/  \\\\\n",
        "&emsp;&emsp;&emsp;沒喝 0.99 \\\\\n",
        "&emsp;&emsp;&emsp;&emsp;&emsp;&emsp;&emsp;\\  \\\\\n",
        "&emsp;&emsp;&emsp;&emsp;&emsp;&emsp;&emsp;&emsp;沒測出 0.95 \\\\\n",
        "\n",
        "$\\frac{P(A, B)}{P(A)}$ \\\n",
        "$P(A, B) = P(A)P(\\frac{B}{A})$\n",
        "\n",
        "固定有響起的情況下(測出超標)\b, 有喝酒的機率：\\\n",
        "$P\\left( \\frac{B 有喝酒 }{A 酒測器響 } \\  \\  \\   \\right)$\n",
        "$ = \\frac{P(有喝, 檢出)}{P(檢出)} = \\frac{P(0.01 \\times 0.95)}{P(0.01\\times0.95+0.99\\times0.05 \\ )}$\n",
        "$ = \\frac{0.0095}{0.059} = 0.161$ \\\n",
        "不到20% $\\implies 誤判率很高,需要加上其他方式判斷是否有酒駕$\n",
        "\n",
        "(辛普森殺妻案, 條件機率陷阱)[https://kknews.cc/zh-tw/news/rya2x4o.html]\n",
        "\n",
        "擲骰子 Ａ事件：5  Ｂ事件：4  \\\n",
        "$P(A, B) = \\frac{1}{6}\\times\\frac{1}{6}$ \\\n",
        "\n",
        "擲骰子為獨立事件: $P(\\frac{B}{A}) = P(B)$\n",
        "$$\n",
        "P(A)\\underbrace{P(\\frac{B}{A})}_{ = P(B)}\n",
        "$$\n",
        "\n",
        "非獨立事件:有關聯影響的事件 - 如交通號誌紅綠燈\n",
        "\n",
        "非獨立事件:若有3件事件的情況下：$\\downarrow$\n",
        "\n",
        "$P(A, B, C) = P(A)P(\\frac{A}{B})P(\\frac{C}{A, B})$\n",
        "\n",
        "$ = P(B)P(\\frac{C}{B})P(\\frac{A}{B, C})$\n",
        "\n",
        "$$$$\n",
        "$$P(A)P(\\frac{B}{A})=P(B)P(\\frac{A}{B})$$\n"
      ]
    },
    {
      "cell_type": "markdown",
      "metadata": {
        "id": "_l2RxVqrH-lr"
      },
      "source": [
        "預測： 我 / 喜歡 / 你\n",
        "\n",
        "P(李白): 任何一首詩是李白寫的機率 = $\\frac{李白的詩}{所有的詩}$\n",
        "\n",
        "$P(\\frac{我 / 喜歡 / 你}{李白})$ : 你是李白,寫下我 / 喜歡 / 你的機率\n",
        "\n",
        "$$\\frac{P(李白)P(\\frac{我喜歡你}{李白})}{P(我/喜歡/你)}$$\n",
        "\n",
        "$$$$\n",
        "$$比大小\\begin{cases}P(\\frac{李白 \\color{lime}{Ａ}}{我/喜歡/你})\\\\P(\\frac{杜甫 \\color{aqua}{Ｂ}}{我/喜歡/你})\\\\P(\\frac{白居易}{我/喜歡/你})\\end{cases}$$\n",
        "$$$$\n",
        "\n",
        "比大小時, 分母都一樣的情況下, 直接省略分母, 只比較分子\n",
        "\n",
        "關聯事件的情況下:\n",
        "\n",
        "$$\\to\\begin{cases}P(\\frac{B:李白}{A:我/喜歡/你})=\\frac{P(李白)P(\\frac{我/喜歡/你}{李白})}{P(我/喜歡/你)}\\;)\\\\P(\\frac{B:杜甫}{A:我/喜歡/你})=\\frac{P(杜甫)P(\\frac{我/喜歡/你}{杜甫})}{P(我/喜歡/你)}\\;)\\\\P(\\frac{B:白居易}{A:我/喜歡/你})=\\frac{P(白居易)P(\\frac{我/喜歡/你}{白居易})}{P(我/喜歡/你)}\\;\\;)\\end{cases}$$\n",
        "\n",
        "$$$$\n",
        "$$\\frac{P(李白)P(\\frac{我/喜歡/你}{李白})}{P(我/喜歡/你)}$$\n",
        "$$$$\n",
        "$$\\downarrow分母一樣不用比較$$\n",
        "$$$$\n",
        "$$P(李白)P(\\frac{我/喜歡/你}{李白})$$\n",
        "$$$$\n",
        "$$\\downarrow計算機率$$\n",
        "$$$$\n",
        "$$P(李白)\\times P(\\frac{我}{李白})\\times \\underbrace{P(\\frac{喜歡}{李白,我})\\times P(\\frac{你}{李白,我,喜歡})}_{\\color{red}{太困難了, 無法計算}})$$\n",
        "$$$$\n",
        "\n",
        "$$\\to\\begin{cases}P(李白)\\times P(\\frac{我}{李白})\\times P(\\frac{喜歡}{李白,我}\\times P(\\frac{你}{李白,我,喜歡}))\\\\P(杜甫)\\times P(\\frac{我}{杜甫})\\times P(\\frac{喜歡}{杜甫,我}\\times P(\\frac{你}{杜甫,我,喜歡}))\\\\P(白居易)\\times P(\\frac{我}{白居易})\\times P(\\frac{喜歡}{白居易,我}\\times P(\\frac{你}{白居易,我,喜歡}))\\end{cases}$$\n",
        "\n",
        "$$$$\n",
        "______________\n",
        "$$比大小轉換\\to\n",
        "單純貝式定理 $$\n",
        "\n",
        "把非獨立事件假設成單純的$\\color{lime}{獨立事件}$ \\\\\n",
        "假設 詩人的 詩詞都沒有連貫, 就像擲骰子一樣 \\\\\n",
        "大家都錯, 但還是可以比大小 \\\\\n",
        "\n",
        "$$非獨立事件(李白詩詞問題)假設為獨立事件(李白骰骰子問題)\\Downarrow$$\n",
        "$$$$\n",
        "$$\n",
        "比大小\\begin{cases}\n",
        "\\fbox{$P(李白)P(\\frac{我}{李白})P(\\frac{喜歡}{李白})P(\\frac{你}{李白}) \\ $}\\\\\n",
        "P(杜甫)P(\\frac{我}{杜甫})P(\\frac{喜歡}{杜甫})P(\\frac{你}{杜甫})\\\\\n",
        "P(白居易)P(\\frac{我}{白居易})P(\\frac{喜歡}{白居易})P(\\frac{你}{白居易})\n",
        "\\end{cases}\n",
        "$$"
      ]
    },
    {
      "cell_type": "markdown",
      "metadata": {
        "id": "b4IKmWVIkPWI"
      },
      "source": [
        ""
      ]
    },
    {
      "cell_type": "code",
      "metadata": {
        "id": "m-G8mFvdnN-q"
      },
      "source": [
        "from urllib.request import urlretrieve\n",
        "url = \"https://github.com/Elwing-Chou/ml0223/raw/main/poem_train.csv\"\n",
        "urlretrieve(url, \"train.csv\")\n",
        "url = \"https://github.com/Elwing-Chou/ml0223/raw/main/poem_test.csv\"\n",
        "urlretrieve(url, \"test.csv\")\n"
      ],
      "execution_count": null,
      "outputs": []
    },
    {
      "cell_type": "code",
      "metadata": {
        "id": "63PmE4Kwpe67"
      },
      "source": [
        "import pandas as pd\n",
        "train_df = pd.read_csv(\"train.csv\", encoding=\"utf-8\")\n",
        "test_df = pd.read_csv(\"test.csv\", encoding=\"utf-8\")"
      ],
      "execution_count": null,
      "outputs": []
    },
    {
      "cell_type": "markdown",
      "metadata": {
        "id": "8f6HrUuso0se"
      },
      "source": [
        "jieba分析 \\\n",
        "(因此案例為古詩詞,在此刻意不載入jieba的大辭典) \\\n",
        "帶進函式庫的一律是數字,而不是字串＝> 轉換操作 "
      ]
    },
    {
      "cell_type": "code",
      "metadata": {
        "id": "5gVoOQkhpw5i"
      },
      "source": [
        "# Series.replace({\"把原本的值當key\":\"要改成的value\"})\n",
        "# print(train_df)\n",
        "test_df"
      ],
      "execution_count": null,
      "outputs": []
    },
    {
      "cell_type": "markdown",
      "metadata": {
        "id": "adNB78Yl1kP2"
      },
      "source": [
        "pandas value_counts方法[https://www.cjavapy.com/article/825/] \\\n",
        "對某個欄位(Series:一維陣列)所有row分類計數 \\\n",
        "(若要加上 排序ascending＝True 計數百分比normalize=Ture) \\\n",
        "df[\"xxx\"].value_counts() 預設剔除空值\n",
        "\n",
        "return 的是該欄位各個row唯一值的計數(就是set不重複的概念)\n",
        "\n",
        "value_counts() 唯一值及計數 <=> Series.unique() 唯一值"
      ]
    },
    {
      "cell_type": "code",
      "metadata": {
        "id": "w2XHsIygtLt2"
      },
      "source": [
        "type(train_df)\n",
        "train_df[\"作者\"]\n",
        "# (Series)[https://pandas.pydata.org/pandas-docs/stable/reference/api/pandas.Series.apply.html]\n",
        "# Series.replace({\"原本\":\"改成\"})\n",
        "# Series.unique / value_counts\n",
        "\n",
        "print(train_df[\"作者\"].value_counts())\n",
        "u = train_df[\"作者\"].unique()\n",
        "# dic={}\n",
        "# for i in range(lne(u)):\n",
        "#   dic[u[i]] = i\n",
        "# 枚舉方法 list(enumerate([\"a\", \"b\", \"c\"]))\n",
        "# 包含式 dic = {u[i]:i for i in range(len(u))}\n",
        "\n",
        "# 用枚舉、包含式把名字換成0 1 2  (第一個name2cat座標當value, 第二個cat2name座標當key)\n",
        "name2cat = {name:i for i, name in enumerate(u)}\n",
        "# cat2name = {i:name for i, name in enumerate(u)}\n",
        "y_train = train_df[\"作者\"].replace(name2cat)\n",
        "y_test = test_df[\"作者\"].replace(name2cat)\n",
        "# y_test\n",
        "name2cat"
      ],
      "execution_count": null,
      "outputs": []
    },
    {
      "cell_type": "markdown",
      "metadata": {
        "id": "1US4GbkFx2t9"
      },
      "source": [
        "一份寫滿步驟的紙 \\\n",
        "print (...) \\\n",
        "＿＿＿＿＿＿\\\n",
        "步驟｜執行   \\\n",
        "$\\uparrow$ \\\n",
        "SOP \\\n",
        "dict ->也是步驟(字典的sop) \\\n",
        "在Python, 一切皆是物件 \\\n",
        "＋() $\\implies$執行/操作 \\\n",
        "參考jieba的extract_tags\n",
        "[https://github.com/fxsjy/jieba/blob/master/jieba/analyse/__init__.py]\n",
        "方法名字 ＝ 名字 ＝ default_tfidf名字\n",
        "extract_tags = tfidf = default_tfidf.extract_tags\n",
        "[https://github.com/fxsjy/jieba/blob/master/jieba/analyse/tfidf.py]\n"
      ]
    },
    {
      "cell_type": "code",
      "metadata": {
        "id": "pgNGGpgRxU0x"
      },
      "source": [
        "# a = print\n",
        "a = int  #  給步驟->給一份SOP\n",
        "a(5.2)   #  執行\n",
        "# 函式資料\n",
        "def test():\n",
        "  return int\n",
        "test()(5.3)\n",
        "b = test\n",
        "b()(1.23)\n",
        "\n",
        "class Person:\n",
        "  def __init__(self, w, h):\n",
        "    self.weight = w\n",
        "    self.height = h\n",
        "  def bmi(self):\n",
        "    return self.weight / (self.height / 100)**2\n",
        "P = Person\n",
        "p1 = P(75, 175) # p1 = Person(75, 175)\n",
        "test = p1.bmi\n",
        "test()"
      ],
      "execution_count": null,
      "outputs": []
    },
    {
      "cell_type": "markdown",
      "metadata": {
        "id": "0BlG3Zmc087S"
      },
      "source": [
        "pandas的 apply方法[https://pandas.pydata.org/pandas-docs/stable/reference/api/pandas.Series.apply.html] \\\n",
        "\"操作\" 一維陣列的值\n"
      ]
    },
    {
      "cell_type": "code",
      "metadata": {
        "id": "rsHdSqc_3ztJ"
      },
      "source": [
        "# Series.apply(func)\n",
        "# 由pandas 代為操作, test不可以加上()\n",
        "'''\n",
        "s = pd.Series([2, 3, 4])\n",
        "def test(x):\n",
        "  return x * X\n",
        "s.apply(test)\n",
        "'''\n",
        "# 對詩詞內容,切割/分詞\n",
        "import jieba\n",
        "def poemcut(p):\n",
        "  return \" \".join(jieba.cut(p))\n",
        "x_train = train_df[\"內容\"].apply(poemcut)\n",
        "x_test = test_df[\"內容\"].apply(poemcut)\n",
        "x_test"
      ],
      "execution_count": null,
      "outputs": []
    },
    {
      "cell_type": "markdown",
      "metadata": {
        "id": "mvbAP6E_6P2R"
      },
      "source": [
        "MinMaxScaler 縮放標準化 \\\n",
        "fit 、transform \\\n",
        "$\\color{lime}{fit()}$:-> \\\n",
        "訓練(取得train內容中的平均值、標準差、極端值等屬性)、 \\\n",
        "參數範圍限制min: 0, max:100 \\\n",
        "$\\color{lime}{transform()}$: \\\n",
        "將訓練後的數值,做降維、歸一化、標準化操作 \\\n",
        "transform()才真的做縮放,\n",
        "ex:轉換成百分比, 在0~1之間 \\\n",
        "$\\color{lime}{fit\\_transform()}$: 訓練數值並轉換操作 \\\n",
        "\n",
        "$$\n",
        "\\frac{P-min}{max-min}\n",
        "$$\n",
        "train :\n",
        "0, 2, 4, 6, 8, 100 \\\n",
        "縮放除以100 \\\n",
        "0, 0.02, 0.04, 0.06, 0.08, 1 \\\n",
        "test :\n",
        "1, 3\n",
        "縮放除以100\n",
        "0.01, 0.03\n",
        "\n",
        "\n",
        "此題的fit: \\\n",
        "只有找出欄位(有多少種詞)\n",
        "\n",
        "transform只是找出此類的數量,沒有要再重找欄位\\\n",
        "做計數操作 \\\n",
        "(如果測試資料的詞,沒有在訓練資料出現,直接忽略不計) \\\n",
        "\n",
        "\n",
        "標準流程：\\\n",
        "fit_transform(訓練input)後,\n",
        "才可直接transform(驗證input), \\\n",
        "\n",
        "且fit_transform訓練內容後,\n",
        "不可以再fit_transform驗證內容, \\\n",
        "以確保產生的結果是使用同一個標準 \\\n",
        "$\n",
        "\\because\n",
        "(驗證內容可能出現訓練內容沒有的字詞/欄位, \\\\ \n",
        "如果考慮這些新字詞, 訓練和驗證就不會在同一個標準下比大小)\n",
        "$\n",
        "\n",
        "CountVectorizer: 文字特徵提取並計數\n",
        "[https://scikit-learn.org/stable/modules/generated/sklearn.feature_extraction.text.CountVectorizer.html ] \\\n",
        "\n",
        "將字串轉換成詞頻矩陣,並透過使用fit_transform()計數\n",
        "\n",
        "[ https://www.itread01.com/content/1547571635.html ]\n"
      ]
    },
    {
      "cell_type": "code",
      "metadata": {
        "id": "1hc8-rzm76d8"
      },
      "source": [
        "from sklearn.feature_extraction.text import CountVectorizer\n",
        "vec = CountVectorizer()\n",
        "x_train_count = vec.fit_transform(x_train)\n",
        "x_test_count = vec.transform(x_test)\n",
        "# print(x_test_count)"
      ],
      "execution_count": null,
      "outputs": []
    },
    {
      "cell_type": "code",
      "metadata": {
        "id": "SMqa09So9Mrs"
      },
      "source": [
        "# 字典\n",
        "vec.vocabulary_\n",
        "# 檢查是否有去除標點符號  vec.vocabulary_[\"，\"]\n",
        "# 常用詞不用去掉,比大小時一樣\n",
        "# sparse matrix 稀疏矩陣\n",
        "# ex:應用於購物網站推薦系統, 文字的處理...\n",
        "# 2731x52294 上億個值,但是稀疏矩陣只儲存有值的資料, => 只儲存85677個值\n",
        "x_train_count"
      ],
      "execution_count": null,
      "outputs": []
    },
    {
      "cell_type": "markdown",
      "metadata": {
        "id": "DWCyYBDgZtCE"
      },
      "source": [
        "多項式單純貝式(機率是有次方的,但是可以不必是整數)\\\n",
        "(ex:1.5次、1.3次...也可以)\n",
        "[https://scikit-learn.org/stable/modules/naive_bayes.html#multinomial-naive-bayes] \\\n",
        "\n",
        "$$\n",
        "\\frac{N_{yi}+a}{N_y+a*n}\n",
        "$$\n",
        "\n",
        "$$\n",
        "\\frac{N_{yi}}{N_y} => \\frac{\"我\"出現的次數}{總用詞} \n",
        "$$\n",
        "\n",
        "$\\therefore 統計應排除太過絕對的數字 0, 100$\n",
        "\n",
        "給保底機制, 保底 x+1 次\n",
        "給他一個微小數值的機率, 避開0 \\\n",
        "$=> Smothing 平滑處理: 解決連乘法下,乘到 \\ 0概率 \\ 的問題$\n",
        "$當 \\alpha = 1 時, 又名為 Laplace Smothing (+1平滑)$\n",
        "\n",
        "$\\alpha$值每個案例,都要嘗試看看往上或往下調 \\\n",
        "此例＋1可能太多,嘗試往下調,看accuracy_score是否有增加 \\\n",
        "$\\alpha = 0.01 \\ or \\ 0.001$\n",
        "\n",
        "若樣本(詞語、欄位)的計數很大(萬 以上),$\\alpha值$應視基底計數數字向上調整,\\\n",
        "ex: $\\alpha=100$\n",
        "\n"
      ]
    },
    {
      "cell_type": "code",
      "metadata": {
        "id": "CKLyWKa3aOKh"
      },
      "source": [
        "from sklearn.naive_bayes import MultinomialNB\n",
        "clf = MultinomialNB(alpha=0.01)\n",
        "clf.fit(x_train_count, y_train)\n",
        "# 單純貝式下,過擬合情況不明顯,在此不需處理\n"
      ],
      "execution_count": null,
      "outputs": []
    },
    {
      "cell_type": "code",
      "metadata": {
        "id": "48Qf64VbafBh"
      },
      "source": [
        "from sklearn.metrics import accuracy_score\n",
        "pre = clf.predict(x_test_count)\n",
        "accuracy_score(pre, y_test)"
      ],
      "execution_count": null,
      "outputs": []
    },
    {
      "cell_type": "markdown",
      "metadata": {
        "id": "KDGQgEo3f2W_"
      },
      "source": [
        "混淆矩陣 confusion_matrix\n"
      ]
    },
    {
      "cell_type": "code",
      "metadata": {
        "id": "IKgybfdAgCdG"
      },
      "source": [
        "from sklearn.metrics import confusion_matrix\n",
        "mat = confusion_matrix(y_test, pre)\n",
        "pd.DataFrame(mat,\n",
        "             index=[name + \"(原本)\" for name in u],\n",
        "             columns=[name + \"(預測)\" for name in u])"
      ],
      "execution_count": null,
      "outputs": []
    },
    {
      "cell_type": "markdown",
      "metadata": {
        "id": "RiyvPXi8aYu8"
      },
      "source": [
        "### clf: 多項式單純貝式的分類器\n",
        "### predict() 預測的詩人(標籤)\n",
        "### predict_proba() 預測輸入的詞語屬於哪個詩人(標籤/唯一值)的機率"
      ]
    },
    {
      "cell_type": "code",
      "metadata": {
        "id": "BrJOP4OfhDno"
      },
      "source": [
        "p = input(\"write:\")\n",
        "# 要注意現在只有一個字串,要轉成『一批』字串只有一個內容\n",
        "test = vec.transform([poemcut(p)])\n",
        "prob = clf.predict_proba(test)\n",
        "prob_0 = prob[0] #拿整批裡面的唯一一個\n",
        "for i in range(len(u)):\n",
        "  print(u[i], \"的機率:\", round(prob_0[i], 3))"
      ],
      "execution_count": null,
      "outputs": []
    }
  ]
}