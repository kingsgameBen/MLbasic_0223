{
  "nbformat": 4,
  "nbformat_minor": 0,
  "metadata": {
    "colab": {
      "name": "transfer_gap.ipynb",
      "private_outputs": true,
      "provenance": [],
      "collapsed_sections": [],
      "mount_file_id": "1IhRyzFWbq9GeZJVBBcfB--ofs8tT2_K_",
      "authorship_tag": "ABX9TyPUg5V5wCEoqUl2v1kO2Wv/",
      "include_colab_link": true
    },
    "kernelspec": {
      "name": "python3",
      "display_name": "Python 3"
    },
    "language_info": {
      "name": "python"
    },
    "accelerator": "GPU"
  },
  "cells": [
    {
      "cell_type": "markdown",
      "metadata": {
        "id": "view-in-github",
        "colab_type": "text"
      },
      "source": [
        "<a href=\"https://colab.research.google.com/github/kingsgameBen/MLbasic_0223/blob/main/transfer_gap.ipynb\" target=\"_parent\"><img src=\"https://colab.research.google.com/assets/colab-badge.svg\" alt=\"Open In Colab\"/></a>"
      ]
    },
    {
      "cell_type": "markdown",
      "metadata": {
        "id": "pVPlX180uOrQ"
      },
      "source": [
        "# 遷移學習\n",
        "### 記得要用GPU的ram來跑深度學習\n",
        "大公司有超強大的算力，才能訓練出來那麼好的模型，我們就是拿來用\n",
        "\n",
        "content資料夾的drive, 跟sample_data同一層，所以不用寫絕對路徑\\\n",
        "keras應用 （應用模型、權重）\\\n",
        "[ https://keras.io/zh/applications/ ]\n",
        "\n",
        "\n",
        "VGG16(當初訓練時,是用caffe, 所以 x的欄位 input/ouput資料不要 ÷255)\\\n",
        "[ https://keras.io/zh/applications/#vgg16_1 ]\n",
        "\n",
        "zipfile 壓縮/解壓文件的工具\\\n",
        "[ https://docs.python.org/zh-cn/3/library/zipfile.html ]\n",
        "\n",
        "dropout的原因\\\n",
        "[ https://zhuanlan.zhihu.com/p/38200980 ]"
      ]
    },
    {
      "cell_type": "code",
      "metadata": {
        "id": "SnUOCPtct1Zk"
      },
      "source": [
        "import zipfile\n",
        "path = \"drive/MyDrive/GAN/train.zip\"\n",
        "f = zipfile.ZipFile(path)\n",
        "# 解壓縮後放跟sample_data同一層，所以斷線後解壓縮後圖片檔會消失，重新執行即可\n",
        "f.extractall()"
      ],
      "execution_count": null,
      "outputs": []
    },
    {
      "cell_type": "code",
      "metadata": {
        "id": "7i2gERFbvbW8"
      },
      "source": [
        "import glob\n",
        "from PIL import Image\n",
        "fs = glob.glob(\"train/*\")\n",
        "print(len(fs))\n",
        "Image.open(fs[5000]).resize((224, 224)).convert(\"RGB\")"
      ],
      "execution_count": null,
      "outputs": []
    },
    {
      "cell_type": "code",
      "metadata": {
        "id": "Iku1tyr3vj5o"
      },
      "source": [
        "import pandas as pd\n",
        "dog = glob.glob(\"train/dog.*\")\n",
        "cat = glob.glob(\"train/cat.*\")\n",
        "datas = pd.DataFrame({\n",
        "    \"path\":dog+cat,\n",
        "    \"ans\":[0]* len(dog) + [1]* len(cat)\n",
        "})\n",
        "print(len(dog))\n",
        "print(len(cat))\n",
        "print(datas)\n",
        "print(datas.shape)"
      ],
      "execution_count": null,
      "outputs": []
    },
    {
      "cell_type": "code",
      "metadata": {
        "id": "p75cIGCHzuCH"
      },
      "source": [
        "# 遷移學習, 偷它訓練好的weights\n",
        "from tensorflow.keras.applications.vgg16 import VGG16\n",
        "vgg = VGG16(include_top=False, input_shape=(224, 224, 3))\n",
        "vgg.summary()"
      ],
      "execution_count": null,
      "outputs": []
    },
    {
      "cell_type": "markdown",
      "metadata": {
        "id": "hUxfKL_x0ith"
      },
      "source": [
        "# 下游任務"
      ]
    },
    {
      "cell_type": "markdown",
      "metadata": {
        "id": "zaJmdCCrJYyl"
      },
      "source": [
        ""
      ]
    },
    {
      "cell_type": "code",
      "metadata": {
        "id": "vDz817430nGG"
      },
      "source": [
        "from tensorflow.keras.layers import Flatten, Dense, Dropout, BatchNormalization, GlobalAveragePooling2D\n",
        "from tensorflow.keras.models import Sequential\n",
        "vgg_layers = vgg.layers\n",
        "print(len(vgg_layers))\n",
        "# 減少不用訓練的參數(原本模型已經幫我訓練好了)\n",
        "for l in vgg_layers:\n",
        "    l.trainable = False\n",
        "clf_layers = [\n",
        "        BatchNormalization(),\n",
        "        # Flatten(),\n",
        "        GlobalAveragePooling2D(),\n",
        "        Dense(2, activation=\"softmax\")\n",
        "]\n",
        "model = Sequential(vgg_layers + clf_layers)\n",
        "model.summary()"
      ],
      "execution_count": null,
      "outputs": []
    },
    {
      "cell_type": "code",
      "metadata": {
        "id": "bf4V0lXY2tQq"
      },
      "source": [
        "from tensorflow.keras.losses import SparseCategoricalCrossentropy\n",
        "model.compile(loss=SparseCategoricalCrossentropy(),\n",
        "              optimizer=\"adam\",\n",
        "              metrics=[\"accuracy\"])"
      ],
      "execution_count": null,
      "outputs": []
    },
    {
      "cell_type": "code",
      "metadata": {
        "id": "pOHX1AWl3mLX"
      },
      "source": [
        "# demo pre: 你的預處理也要抄當初模型訓練時的預處理 (x_train的圖片不要 ÷255.0 )\n",
        "# [ https://github.com/keras-team/keras-applications/blob/master/keras_applications/imagenet_utils.py ]\n",
        "import numpy as np\n",
        "from tensorflow.keras.applications.vgg16 import preprocess_input\n",
        "img = Image.open(fs[5000]).resize((224, 224)).convert(\"RGB\")\n",
        "img_np = np.array(img)\n",
        "print(img_np)\n",
        "preprocess_input(img_np)"
      ],
      "execution_count": null,
      "outputs": []
    },
    {
      "cell_type": "markdown",
      "metadata": {
        "id": "5C9bPWyA0Aaf"
      },
      "source": [
        "numpy的random\n",
        "[ https://numpy.org/doc/stable/reference/random/generated/numpy.random.randint.html ]"
      ]
    },
    {
      "cell_type": "code",
      "metadata": {
        "id": "TjtE7wV-01Ug"
      },
      "source": [
        "x, y = np.array(datas[\"path\"]), np.array(datas[\"ans\"])\n",
        "print(len(x), len(y))"
      ],
      "execution_count": null,
      "outputs": []
    },
    {
      "cell_type": "code",
      "metadata": {
        "id": "gyUI11iSzS-6"
      },
      "source": [
        "# 0~3 隨機整數的 2維矩陣(想幾維都可以)\n",
        "# np.random.randint(0, 4, size=(2, 3))\n",
        "def get_data(x, y, batch=20):\n",
        "    batch = 20\n",
        "    idx = np.random.randint(0, len(x), size=batch)\n",
        "    print(type(idx), len(idx))\n",
        "    y_batch = y[idx]\n",
        "    # print(y_batch)\n",
        "    x_batch, x_batch_ori = [], []\n",
        "    for path in x[idx]:\n",
        "        img = Image.open(path).resize((224, 224)).convert(\"RGB\")\n",
        "        img_np = np.array(img)\n",
        "        # print(img_np)\n",
        "        img_np_pre = preprocess_input(img_np)\n",
        "        x_batch.append(img_np_pre)\n",
        "        x_batch_ori.append(img_np)\n",
        "    return (np.array(x_batch), np.array(y_batch), np.array(x_batch_ori))\n",
        "x_batch, y_batch, x_batch_ori = get_data(x, y)\n",
        "print(x_batch.shape)\n",
        "print(y_batch.shape)\n",
        "print(x_batch_ori.shape)"
      ],
      "execution_count": null,
      "outputs": []
    },
    {
      "cell_type": "markdown",
      "metadata": {
        "id": "TL9qEyGR36Gc"
      },
      "source": [
        "train_on_batch [ https://keras.io/zh/models/model/ ]"
      ]
    },
    {
      "cell_type": "code",
      "metadata": {
        "id": "mPznzoAB3qD0"
      },
      "source": [
        "for i in range(60):\n",
        "    print(\"-\"*20, i, \"-\"*20)\n",
        "    x_batch, y_batch, x_batch_ori = get_data(x, y)\n",
        "    # 自己訓練,自己驗證\n",
        "    result = model.train_on_batch(x_batch, y_batch)\n",
        "    print(\"[Train]:\", result)\n",
        "    x_batch, y_batch, x_batch_ori = get_data(x, y)\n",
        "    result = model.test_on_batch(x_batch, y_batch)\n",
        "    print(\"[Validate]:\", result)"
      ],
      "execution_count": null,
      "outputs": []
    },
    {
      "cell_type": "markdown",
      "metadata": {
        "id": "yqhvtvqy8YZ-"
      },
      "source": [
        "Question1: 出現loss = 0.0 (訓練時出現完全的0、1)\n",
        "\n",
        "Question2: train的loss 從 0.0突然下次又跳到2.2多 (訓練的loss誇張的忽高忽低)\n",
        "\n",
        "Question3: predict時,貓或狗的機率有出現完全1 or 0 (不如何機率的函數) \\\n",
        "---->太常出現,所以模型有問題\n"
      ]
    },
    {
      "cell_type": "code",
      "metadata": {
        "id": "SwLV9OHo7mhR"
      },
      "source": [
        "x_batch, y_batch, x_batch_ori = get_data(x, y, 2000)\n",
        "model.evaluate(x_batch, y_batch)"
      ],
      "execution_count": null,
      "outputs": []
    },
    {
      "cell_type": "code",
      "metadata": {
        "id": "tkAEIReH9BKb"
      },
      "source": [
        "model.predict(x_batch)"
      ],
      "execution_count": null,
      "outputs": []
    },
    {
      "cell_type": "code",
      "metadata": {
        "id": "OhAzVRhZ-mFn"
      },
      "source": [
        "vgg.layers[1].get_weights()"
      ],
      "execution_count": null,
      "outputs": []
    },
    {
      "cell_type": "code",
      "metadata": {
        "id": "eNx3wGjmr0aP"
      },
      "source": [
        "import numpy as np\n",
        "import matplotlib.pyplot as plt\n",
        "pre = model.predict_classes(x_batch)\n",
        "trans = [\"Dog\", \"Cat\"]\n",
        "idx = np.nonzero(pre != y_batch)[0][:200]\n",
        "# print(np.nonzero(pre != y_test_r)[0].size)\n",
        "false_img = x_batch_ori[idx]\n",
        "false_pre = pre[idx]\n",
        "false_label = y_batch[idx]\n",
        "plt.figure(figsize=(14, 14))\n",
        "width = 10\n",
        "height = len(idx) // width + 1\n",
        "for i in range(len(idx)):\n",
        "    plt.subplot(height, width, i+1)\n",
        "    plt.imshow(false_img[i])\n",
        "    t = \"[Ori]:{}\\n[Pre]:{}\".format(trans[false_label[i]], trans[false_pre[i]])\n",
        "    plt.title(t)\n",
        "    plt.axis(\"off\")"
      ],
      "execution_count": null,
      "outputs": []
    },
    {
      "cell_type": "code",
      "metadata": {
        "id": "pXheZuQwr2Q5"
      },
      "source": [
        "from PIL import Image\n",
        "import requests\n",
        "headers ={\n",
        "    \"user-agent\": \"Mozilla/5.0 (Macintosh; Intel Mac OS X 11_2_3) AppleWebKit/537.36 (KHTML, like Gecko) Chrome/89.0.4389.90 Safari/537.36\"\n",
        "}\n",
        "url = input(\"url: \")\n",
        "response = requests.get(url, headers=headers, stream=True, verify=False)\n",
        "# 要跟訓練資料的圖片相同大小、相同色碼\n",
        "img = Image.open(response.raw).resize((224, 224)).convert(\"RGB\")\n",
        "img_np = np.array(img)\n",
        "# 要與訓練同維度，調整圖片為四個維度(1筆資料, 長32, 寬32, 色碼3)\n",
        "img_np_r = preprocess_input(img_np.reshape(1, 224, 224, 3))\n",
        "proba = model.predict(img_np_r)[0]\n",
        "for i, p in enumerate(proba):\n",
        "    print(trans[i], \"的機率:\", p)\n",
        "ans = model.predict_classes(img_np_r)[0]\n",
        "print(\"答案:\", trans[ans])\n",
        "plt.imshow(img_np)"
      ],
      "execution_count": null,
      "outputs": []
    }
  ]
}