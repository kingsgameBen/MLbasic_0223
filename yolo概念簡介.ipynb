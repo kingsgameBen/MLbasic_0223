{
  "nbformat": 4,
  "nbformat_minor": 0,
  "metadata": {
    "colab": {
      "name": "yolo概念簡介.ipynb",
      "private_outputs": true,
      "provenance": [],
      "authorship_tag": "ABX9TyOnXKH+EiSXY9BMN4X5Nn9b",
      "include_colab_link": true
    },
    "kernelspec": {
      "name": "python3",
      "display_name": "Python 3"
    },
    "language_info": {
      "name": "python"
    }
  },
  "cells": [
    {
      "cell_type": "markdown",
      "metadata": {
        "id": "view-in-github",
        "colab_type": "text"
      },
      "source": [
        "<a href=\"https://colab.research.google.com/github/kingsgameBen/MLbasic_0223/blob/main/yolo%E6%A6%82%E5%BF%B5%E7%B0%A1%E4%BB%8B.ipynb\" target=\"_parent\"><img src=\"https://colab.research.google.com/assets/colab-badge.svg\" alt=\"Open In Colab\"/></a>"
      ]
    },
    {
      "cell_type": "markdown",
      "metadata": {
        "id": "PppHc5iAViTa"
      },
      "source": [
        "# YOLO : you only look once\n",
        "進階圖像辨識\n",
        "\n",
        "1.分類： classification\n",
        "\n",
        "2.檢測：Object Detection\n",
        "\n",
        "3.像素分類：Semantics Segmentation\n",
        "\n",
        "4.像素檢測：像素等級的檢測 Instance Segmentation\n",
        "\n",
        "### FasteRCNN:\n",
        "[ https://www.mdeditor.tw/pl/pvH8/zh-tw ] \\\n",
        "找物件框、分類，兩件事分別執行，判別較精準，但是慢\n",
        "1. 分類/找框 效果好 （分別為2個神經網路）\n",
        "\n",
        "2. 執行較慢不及時\n",
        "\n",
        "### YOLO:\n",
        "找物件框＆分類 在同一個網路\n",
        "1. 效果較差\n",
        "2. 執行速度快\n",
        "\n",
        "[ https://zhuanlan.zhihu.com/p/50595699 ]\n",
        "YOLO nms : non-maximum suppression 目標框的抑制 \\\n",
        "(confidence不是最大的，就找跟confidence最高的框，IoU夠高的就去除掉) \\\n",
        "IoU不夠高，代表沒重合，可能是其他物件的框\n",
        "\n",
        "mAP效能指標\n",
        "mean Average Precision\n",
        "\n",
        "[https://chih-sheng-huang821.medium.com/%E6%B7%B1%E5%BA%A6%E5%AD%B8%E7%BF%92%E7%B3%BB%E5%88%97-%E4%BB%80%E9%BA%BC%E6%98%AFap-map-aaf089920848 ]\n",
        "\n",
        "precision精確率 & recall召回率\n",
        "\n",
        "FN:預測不是狗，但正解是狗。 <- 相對互斥 -> FP:預測是狗，但正解不是狗\n",
        "\n",
        "精確率：預測是狗的數量中，但正解也是狗的機率 or 預測不是狗的數量中，但正解也不是狗的機率\n",
        "\n",
        "召回率：預測是狗的數量佔了正解是狗的數量多少比例( 猜測是狗/真正有多少狗 )\n",
        "\n",
        "=> model trade-off 模型取捨：若是在醫療領域中的癌細胞檢測，應該選召回率高，犧牲一點精確率。寧願誤判成 可能罹癌 ，醫療糾紛比誤判成 身體無恙 還低。適用在須審慎判斷的情境下\n",
        "\n",
        "\n",
        "IoU Intersection over Union\n",
        "\n",
        "[https://blog.csdn.net/IAMoldpan/article/details/78799857 ]\n",
        "\n",
        "darknet53 [ https://github.com/pjreddie/darknet/blob/master/cfg/yolov3-voc.cfg ]\n",
        "\n",
        "experiencor yolov3 [https://github.com/experiencor/keras-yolo3 ]\n",
        "\n",
        "yolov3 layers圖[https://drive.google.com/file/d/1dchCsb93c6CdwtByCwDfjXLfO8HvWrzQ/view ]\n"
      ]
    },
    {
      "cell_type": "code",
      "metadata": {
        "id": "2V9nwu1GSqb6"
      },
      "source": [
        ""
      ],
      "execution_count": null,
      "outputs": []
    }
  ]
}